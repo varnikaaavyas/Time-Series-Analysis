{
  "nbformat": 4,
  "nbformat_minor": 0,
  "metadata": {
    "colab": {
      "provenance": [],
      "authorship_tag": "ABX9TyPuYaC3wf/Gu1Xz/zZm8JK/",
      "include_colab_link": true
    },
    "kernelspec": {
      "name": "python3",
      "display_name": "Python 3"
    },
    "language_info": {
      "name": "python"
    }
  },
  "cells": [
    {
      "cell_type": "markdown",
      "metadata": {
        "id": "view-in-github",
        "colab_type": "text"
      },
      "source": [
        "<a href=\"https://colab.research.google.com/github/varnikaaavyas/Time-Series-Analysis/blob/main/Vector_Autoregression_Model.ipynb\" target=\"_parent\"><img src=\"https://colab.research.google.com/assets/colab-badge.svg\" alt=\"Open In Colab\"/></a>"
      ]
    },
    {
      "cell_type": "code",
      "execution_count": null,
      "metadata": {
        "id": "t1lcrMmGUNNm"
      },
      "outputs": [],
      "source": [
        "from statsmodels.graphics.tsaplots import plot_acf, plot_pacf\n",
        "from statsmodels.tsa.statespace.varmax import VARMAX\n",
        "from statsmodels.tsa.api import VAR\n",
        "from statsmodels.tsa.stattools import grangercausalitytests, adfuller\n",
        "import matplotlib.pyplot as plt\n",
        "import statsmodels.api as sm\n",
        "import pandas as pd\n",
        "import numpy as np\n",
        "import plotly.express as px"
      ]
    },
    {
      "cell_type": "code",
      "source": [
        "# turn off the warning\n",
        "import warnings\n",
        "warnings.filterwarnings('ignore')"
      ],
      "metadata": {
        "id": "DUBqmrQBVLf6"
      },
      "execution_count": null,
      "outputs": []
    },
    {
      "cell_type": "code",
      "source": [
        "import statsmodels.api as sm\n",
        "data = sm.datasets.macrodata.load_pandas().data\n",
        "data.head()"
      ],
      "metadata": {
        "colab": {
          "base_uri": "https://localhost:8080/",
          "height": 270
        },
        "id": "87ioD3MYVPf-",
        "outputId": "3b72d119-88e9-4f2f-ba04-a944262e8c75"
      },
      "execution_count": null,
      "outputs": [
        {
          "output_type": "execute_result",
          "data": {
            "text/plain": [
              "     year  quarter   realgdp  realcons  realinv  realgovt  realdpi    cpi  \\\n",
              "0  1959.0      1.0  2710.349    1707.4  286.898   470.045   1886.9  28.98   \n",
              "1  1959.0      2.0  2778.801    1733.7  310.859   481.301   1919.7  29.15   \n",
              "2  1959.0      3.0  2775.488    1751.8  289.226   491.260   1916.4  29.35   \n",
              "3  1959.0      4.0  2785.204    1753.7  299.356   484.052   1931.3  29.37   \n",
              "4  1960.0      1.0  2847.699    1770.5  331.722   462.199   1955.5  29.54   \n",
              "\n",
              "      m1  tbilrate  unemp      pop  infl  realint  \n",
              "0  139.7      2.82    5.8  177.146  0.00     0.00  \n",
              "1  141.7      3.08    5.1  177.830  2.34     0.74  \n",
              "2  140.5      3.82    5.3  178.657  2.74     1.09  \n",
              "3  140.0      4.33    5.6  179.386  0.27     4.06  \n",
              "4  139.6      3.50    5.2  180.007  2.31     1.19  "
            ],
            "text/html": [
              "\n",
              "  <div id=\"df-e4be35d8-3725-4889-8e93-839b24873ca7\">\n",
              "    <div class=\"colab-df-container\">\n",
              "      <div>\n",
              "<style scoped>\n",
              "    .dataframe tbody tr th:only-of-type {\n",
              "        vertical-align: middle;\n",
              "    }\n",
              "\n",
              "    .dataframe tbody tr th {\n",
              "        vertical-align: top;\n",
              "    }\n",
              "\n",
              "    .dataframe thead th {\n",
              "        text-align: right;\n",
              "    }\n",
              "</style>\n",
              "<table border=\"1\" class=\"dataframe\">\n",
              "  <thead>\n",
              "    <tr style=\"text-align: right;\">\n",
              "      <th></th>\n",
              "      <th>year</th>\n",
              "      <th>quarter</th>\n",
              "      <th>realgdp</th>\n",
              "      <th>realcons</th>\n",
              "      <th>realinv</th>\n",
              "      <th>realgovt</th>\n",
              "      <th>realdpi</th>\n",
              "      <th>cpi</th>\n",
              "      <th>m1</th>\n",
              "      <th>tbilrate</th>\n",
              "      <th>unemp</th>\n",
              "      <th>pop</th>\n",
              "      <th>infl</th>\n",
              "      <th>realint</th>\n",
              "    </tr>\n",
              "  </thead>\n",
              "  <tbody>\n",
              "    <tr>\n",
              "      <th>0</th>\n",
              "      <td>1959.0</td>\n",
              "      <td>1.0</td>\n",
              "      <td>2710.349</td>\n",
              "      <td>1707.4</td>\n",
              "      <td>286.898</td>\n",
              "      <td>470.045</td>\n",
              "      <td>1886.9</td>\n",
              "      <td>28.98</td>\n",
              "      <td>139.7</td>\n",
              "      <td>2.82</td>\n",
              "      <td>5.8</td>\n",
              "      <td>177.146</td>\n",
              "      <td>0.00</td>\n",
              "      <td>0.00</td>\n",
              "    </tr>\n",
              "    <tr>\n",
              "      <th>1</th>\n",
              "      <td>1959.0</td>\n",
              "      <td>2.0</td>\n",
              "      <td>2778.801</td>\n",
              "      <td>1733.7</td>\n",
              "      <td>310.859</td>\n",
              "      <td>481.301</td>\n",
              "      <td>1919.7</td>\n",
              "      <td>29.15</td>\n",
              "      <td>141.7</td>\n",
              "      <td>3.08</td>\n",
              "      <td>5.1</td>\n",
              "      <td>177.830</td>\n",
              "      <td>2.34</td>\n",
              "      <td>0.74</td>\n",
              "    </tr>\n",
              "    <tr>\n",
              "      <th>2</th>\n",
              "      <td>1959.0</td>\n",
              "      <td>3.0</td>\n",
              "      <td>2775.488</td>\n",
              "      <td>1751.8</td>\n",
              "      <td>289.226</td>\n",
              "      <td>491.260</td>\n",
              "      <td>1916.4</td>\n",
              "      <td>29.35</td>\n",
              "      <td>140.5</td>\n",
              "      <td>3.82</td>\n",
              "      <td>5.3</td>\n",
              "      <td>178.657</td>\n",
              "      <td>2.74</td>\n",
              "      <td>1.09</td>\n",
              "    </tr>\n",
              "    <tr>\n",
              "      <th>3</th>\n",
              "      <td>1959.0</td>\n",
              "      <td>4.0</td>\n",
              "      <td>2785.204</td>\n",
              "      <td>1753.7</td>\n",
              "      <td>299.356</td>\n",
              "      <td>484.052</td>\n",
              "      <td>1931.3</td>\n",
              "      <td>29.37</td>\n",
              "      <td>140.0</td>\n",
              "      <td>4.33</td>\n",
              "      <td>5.6</td>\n",
              "      <td>179.386</td>\n",
              "      <td>0.27</td>\n",
              "      <td>4.06</td>\n",
              "    </tr>\n",
              "    <tr>\n",
              "      <th>4</th>\n",
              "      <td>1960.0</td>\n",
              "      <td>1.0</td>\n",
              "      <td>2847.699</td>\n",
              "      <td>1770.5</td>\n",
              "      <td>331.722</td>\n",
              "      <td>462.199</td>\n",
              "      <td>1955.5</td>\n",
              "      <td>29.54</td>\n",
              "      <td>139.6</td>\n",
              "      <td>3.50</td>\n",
              "      <td>5.2</td>\n",
              "      <td>180.007</td>\n",
              "      <td>2.31</td>\n",
              "      <td>1.19</td>\n",
              "    </tr>\n",
              "  </tbody>\n",
              "</table>\n",
              "</div>\n",
              "      <button class=\"colab-df-convert\" onclick=\"convertToInteractive('df-e4be35d8-3725-4889-8e93-839b24873ca7')\"\n",
              "              title=\"Convert this dataframe to an interactive table.\"\n",
              "              style=\"display:none;\">\n",
              "        \n",
              "  <svg xmlns=\"http://www.w3.org/2000/svg\" height=\"24px\"viewBox=\"0 0 24 24\"\n",
              "       width=\"24px\">\n",
              "    <path d=\"M0 0h24v24H0V0z\" fill=\"none\"/>\n",
              "    <path d=\"M18.56 5.44l.94 2.06.94-2.06 2.06-.94-2.06-.94-.94-2.06-.94 2.06-2.06.94zm-11 1L8.5 8.5l.94-2.06 2.06-.94-2.06-.94L8.5 2.5l-.94 2.06-2.06.94zm10 10l.94 2.06.94-2.06 2.06-.94-2.06-.94-.94-2.06-.94 2.06-2.06.94z\"/><path d=\"M17.41 7.96l-1.37-1.37c-.4-.4-.92-.59-1.43-.59-.52 0-1.04.2-1.43.59L10.3 9.45l-7.72 7.72c-.78.78-.78 2.05 0 2.83L4 21.41c.39.39.9.59 1.41.59.51 0 1.02-.2 1.41-.59l7.78-7.78 2.81-2.81c.8-.78.8-2.07 0-2.86zM5.41 20L4 18.59l7.72-7.72 1.47 1.35L5.41 20z\"/>\n",
              "  </svg>\n",
              "      </button>\n",
              "      \n",
              "  <style>\n",
              "    .colab-df-container {\n",
              "      display:flex;\n",
              "      flex-wrap:wrap;\n",
              "      gap: 12px;\n",
              "    }\n",
              "\n",
              "    .colab-df-convert {\n",
              "      background-color: #E8F0FE;\n",
              "      border: none;\n",
              "      border-radius: 50%;\n",
              "      cursor: pointer;\n",
              "      display: none;\n",
              "      fill: #1967D2;\n",
              "      height: 32px;\n",
              "      padding: 0 0 0 0;\n",
              "      width: 32px;\n",
              "    }\n",
              "\n",
              "    .colab-df-convert:hover {\n",
              "      background-color: #E2EBFA;\n",
              "      box-shadow: 0px 1px 2px rgba(60, 64, 67, 0.3), 0px 1px 3px 1px rgba(60, 64, 67, 0.15);\n",
              "      fill: #174EA6;\n",
              "    }\n",
              "\n",
              "    [theme=dark] .colab-df-convert {\n",
              "      background-color: #3B4455;\n",
              "      fill: #D2E3FC;\n",
              "    }\n",
              "\n",
              "    [theme=dark] .colab-df-convert:hover {\n",
              "      background-color: #434B5C;\n",
              "      box-shadow: 0px 1px 3px 1px rgba(0, 0, 0, 0.15);\n",
              "      filter: drop-shadow(0px 1px 2px rgba(0, 0, 0, 0.3));\n",
              "      fill: #FFFFFF;\n",
              "    }\n",
              "  </style>\n",
              "\n",
              "      <script>\n",
              "        const buttonEl =\n",
              "          document.querySelector('#df-e4be35d8-3725-4889-8e93-839b24873ca7 button.colab-df-convert');\n",
              "        buttonEl.style.display =\n",
              "          google.colab.kernel.accessAllowed ? 'block' : 'none';\n",
              "\n",
              "        async function convertToInteractive(key) {\n",
              "          const element = document.querySelector('#df-e4be35d8-3725-4889-8e93-839b24873ca7');\n",
              "          const dataTable =\n",
              "            await google.colab.kernel.invokeFunction('convertToInteractive',\n",
              "                                                     [key], {});\n",
              "          if (!dataTable) return;\n",
              "\n",
              "          const docLinkHtml = 'Like what you see? Visit the ' +\n",
              "            '<a target=\"_blank\" href=https://colab.research.google.com/notebooks/data_table.ipynb>data table notebook</a>'\n",
              "            + ' to learn more about interactive tables.';\n",
              "          element.innerHTML = '';\n",
              "          dataTable['output_type'] = 'display_data';\n",
              "          await google.colab.output.renderOutput(dataTable, element);\n",
              "          const docLink = document.createElement('div');\n",
              "          docLink.innerHTML = docLinkHtml;\n",
              "          element.appendChild(docLink);\n",
              "        }\n",
              "      </script>\n",
              "    </div>\n",
              "  </div>\n",
              "  "
            ]
          },
          "metadata": {},
          "execution_count": 76
        }
      ]
    },
    {
      "cell_type": "code",
      "source": [
        "# stationarity tets\n",
        "for (columnName, columnData) in data.iteritems():\n",
        "  ad_fuller_tetst=adfuller(columnData)\n",
        "  print(f'{columnName} P-value: {ad_fuller_tetst[1]}' )\n",
        "\n",
        "# Real gdp and cpi P-value is greater than 0.05 . This is NOn-stationary\n"
      ],
      "metadata": {
        "colab": {
          "base_uri": "https://localhost:8080/"
        },
        "id": "J7wkLDsSV2NY",
        "outputId": "6e6e9528-f0ce-4991-aca4-17c69bd21999"
      },
      "execution_count": null,
      "outputs": [
        {
          "output_type": "stream",
          "name": "stdout",
          "text": [
            "year P-value: 0.9325391339631047\n",
            "quarter P-value: 0.0\n",
            "realgdp P-value: 0.9982455372335032\n",
            "realcons P-value: 0.9976992503412904\n",
            "realinv P-value: 0.6484956579101143\n",
            "realgovt P-value: 0.9558411923961085\n",
            "realdpi P-value: 1.0\n",
            "cpi P-value: 0.9904328188337422\n",
            "m1 P-value: 0.9987380758531885\n",
            "tbilrate P-value: 0.26991776442261584\n",
            "unemp P-value: 0.10685366457233608\n",
            "pop P-value: 0.9982010738893761\n",
            "infl P-value: 0.030107620863486007\n",
            "realint P-value: 0.007161872494651718\n"
          ]
        }
      ]
    },
    {
      "cell_type": "code",
      "source": [
        "fig = px.line(data, x=data.year, y = data.realgdp)\n",
        "fig.show()"
      ],
      "metadata": {
        "colab": {
          "base_uri": "https://localhost:8080/",
          "height": 542
        },
        "id": "7w98k4KHaNoW",
        "outputId": "a8b7f1a8-b38d-4015-be8f-f0892a01e9a3"
      },
      "execution_count": null,
      "outputs": [
        {
          "output_type": "display_data",
          "data": {
            "text/html": [
              "<html>\n",
              "<head><meta charset=\"utf-8\" /></head>\n",
              "<body>\n",
              "    <div>            <script src=\"https://cdnjs.cloudflare.com/ajax/libs/mathjax/2.7.5/MathJax.js?config=TeX-AMS-MML_SVG\"></script><script type=\"text/javascript\">if (window.MathJax && window.MathJax.Hub && window.MathJax.Hub.Config) {window.MathJax.Hub.Config({SVG: {font: \"STIX-Web\"}});}</script>                <script type=\"text/javascript\">window.PlotlyConfig = {MathJaxConfig: 'local'};</script>\n",
              "        <script src=\"https://cdn.plot.ly/plotly-2.18.2.min.js\"></script>                <div id=\"73fb149d-3407-4d7a-ae2a-42b015268fc3\" class=\"plotly-graph-div\" style=\"height:525px; width:100%;\"></div>            <script type=\"text/javascript\">                                    window.PLOTLYENV=window.PLOTLYENV || {};                                    if (document.getElementById(\"73fb149d-3407-4d7a-ae2a-42b015268fc3\")) {                    Plotly.newPlot(                        \"73fb149d-3407-4d7a-ae2a-42b015268fc3\",                        [{\"hovertemplate\":\"year=%{x}<br>realgdp=%{y}<extra></extra>\",\"legendgroup\":\"\",\"line\":{\"color\":\"#636efa\",\"dash\":\"solid\"},\"marker\":{\"symbol\":\"circle\"},\"mode\":\"lines\",\"name\":\"\",\"orientation\":\"v\",\"showlegend\":false,\"x\":[1959.0,1959.0,1959.0,1959.0,1960.0,1960.0,1960.0,1960.0,1961.0,1961.0,1961.0,1961.0,1962.0,1962.0,1962.0,1962.0,1963.0,1963.0,1963.0,1963.0,1964.0,1964.0,1964.0,1964.0,1965.0,1965.0,1965.0,1965.0,1966.0,1966.0,1966.0,1966.0,1967.0,1967.0,1967.0,1967.0,1968.0,1968.0,1968.0,1968.0,1969.0,1969.0,1969.0,1969.0,1970.0,1970.0,1970.0,1970.0,1971.0,1971.0,1971.0,1971.0,1972.0,1972.0,1972.0,1972.0,1973.0,1973.0,1973.0,1973.0,1974.0,1974.0,1974.0,1974.0,1975.0,1975.0,1975.0,1975.0,1976.0,1976.0,1976.0,1976.0,1977.0,1977.0,1977.0,1977.0,1978.0,1978.0,1978.0,1978.0,1979.0,1979.0,1979.0,1979.0,1980.0,1980.0,1980.0,1980.0,1981.0,1981.0,1981.0,1981.0,1982.0,1982.0,1982.0,1982.0,1983.0,1983.0,1983.0,1983.0,1984.0,1984.0,1984.0,1984.0,1985.0,1985.0,1985.0,1985.0,1986.0,1986.0,1986.0,1986.0,1987.0,1987.0,1987.0,1987.0,1988.0,1988.0,1988.0,1988.0,1989.0,1989.0,1989.0,1989.0,1990.0,1990.0,1990.0,1990.0,1991.0,1991.0,1991.0,1991.0,1992.0,1992.0,1992.0,1992.0,1993.0,1993.0,1993.0,1993.0,1994.0,1994.0,1994.0,1994.0,1995.0,1995.0,1995.0,1995.0,1996.0,1996.0,1996.0,1996.0,1997.0,1997.0,1997.0,1997.0,1998.0,1998.0,1998.0,1998.0,1999.0,1999.0,1999.0,1999.0,2000.0,2000.0,2000.0,2000.0,2001.0,2001.0,2001.0,2001.0,2002.0,2002.0,2002.0,2002.0,2003.0,2003.0,2003.0,2003.0,2004.0,2004.0,2004.0,2004.0,2005.0,2005.0,2005.0,2005.0,2006.0,2006.0,2006.0,2006.0,2007.0,2007.0,2007.0,2007.0,2008.0,2008.0,2008.0,2008.0,2009.0,2009.0,2009.0],\"xaxis\":\"x\",\"y\":[2710.349,2778.801,2775.488,2785.204,2847.699,2834.39,2839.022,2802.616,2819.264,2872.005,2918.419,2977.83,3031.241,3064.709,3093.047,3100.563,3141.087,3180.447,3240.332,3264.967,3338.246,3376.587,3422.469,3431.957,3516.251,3563.96,3636.285,3724.014,3815.423,3828.124,3853.301,3884.52,3918.74,3919.556,3950.826,3980.97,4063.013,4131.998,4160.267,4178.293,4244.1,4256.46,4283.378,4263.261,4256.573,4264.289,4302.259,4256.637,4374.016,4398.829,4433.943,4446.264,4525.769,4633.101,4677.503,4754.546,4876.166,4932.571,4906.252,4953.05,4909.617,4922.188,4873.52,4854.34,4795.295,4831.942,4913.328,4977.511,5090.663,5128.947,5154.072,5191.499,5251.762,5356.131,5451.921,5450.793,5469.405,5684.569,5740.3,5816.222,5825.949,5831.418,5873.335,5889.495,5908.467,5787.373,5776.617,5883.46,6005.717,5957.795,6030.184,5955.062,5857.333,5889.074,5866.37,5871.001,5944.02,6077.619,6197.468,6325.574,6448.264,6559.594,6623.343,6677.264,6740.275,6797.344,6903.523,6955.918,7022.757,7050.969,7118.95,7153.359,7193.019,7269.51,7332.558,7458.022,7496.6,7592.881,7632.082,7733.991,7806.603,7865.016,7927.393,7944.697,8027.693,8059.598,8059.476,7988.864,7950.164,8003.822,8037.538,8069.046,8157.616,8244.294,8329.361,8417.016,8432.485,8486.435,8531.108,8643.769,8727.919,8847.303,8904.289,9003.18,9025.267,9044.668,9120.684,9184.275,9247.188,9407.052,9488.879,9592.458,9666.235,9809.551,9932.672,10008.874,10103.425,10194.277,10328.787,10507.575,10601.179,10684.049,10819.914,11014.254,11043.044,11258.454,11267.867,11334.544,11297.171,11371.251,11340.075,11380.128,11477.868,11538.77,11596.43,11598.824,11645.819,11738.706,11935.461,12042.817,12127.623,12213.818,12303.533,12410.282,12534.113,12587.535,12683.153,12748.699,12915.938,12962.462,12965.916,13060.679,13099.901,13203.977,13321.109,13391.249,13366.865,13415.266,13324.6,13141.92,12925.41,12901.504,12990.341],\"yaxis\":\"y\",\"type\":\"scatter\"}],                        {\"template\":{\"data\":{\"histogram2dcontour\":[{\"type\":\"histogram2dcontour\",\"colorbar\":{\"outlinewidth\":0,\"ticks\":\"\"},\"colorscale\":[[0.0,\"#0d0887\"],[0.1111111111111111,\"#46039f\"],[0.2222222222222222,\"#7201a8\"],[0.3333333333333333,\"#9c179e\"],[0.4444444444444444,\"#bd3786\"],[0.5555555555555556,\"#d8576b\"],[0.6666666666666666,\"#ed7953\"],[0.7777777777777778,\"#fb9f3a\"],[0.8888888888888888,\"#fdca26\"],[1.0,\"#f0f921\"]]}],\"choropleth\":[{\"type\":\"choropleth\",\"colorbar\":{\"outlinewidth\":0,\"ticks\":\"\"}}],\"histogram2d\":[{\"type\":\"histogram2d\",\"colorbar\":{\"outlinewidth\":0,\"ticks\":\"\"},\"colorscale\":[[0.0,\"#0d0887\"],[0.1111111111111111,\"#46039f\"],[0.2222222222222222,\"#7201a8\"],[0.3333333333333333,\"#9c179e\"],[0.4444444444444444,\"#bd3786\"],[0.5555555555555556,\"#d8576b\"],[0.6666666666666666,\"#ed7953\"],[0.7777777777777778,\"#fb9f3a\"],[0.8888888888888888,\"#fdca26\"],[1.0,\"#f0f921\"]]}],\"heatmap\":[{\"type\":\"heatmap\",\"colorbar\":{\"outlinewidth\":0,\"ticks\":\"\"},\"colorscale\":[[0.0,\"#0d0887\"],[0.1111111111111111,\"#46039f\"],[0.2222222222222222,\"#7201a8\"],[0.3333333333333333,\"#9c179e\"],[0.4444444444444444,\"#bd3786\"],[0.5555555555555556,\"#d8576b\"],[0.6666666666666666,\"#ed7953\"],[0.7777777777777778,\"#fb9f3a\"],[0.8888888888888888,\"#fdca26\"],[1.0,\"#f0f921\"]]}],\"heatmapgl\":[{\"type\":\"heatmapgl\",\"colorbar\":{\"outlinewidth\":0,\"ticks\":\"\"},\"colorscale\":[[0.0,\"#0d0887\"],[0.1111111111111111,\"#46039f\"],[0.2222222222222222,\"#7201a8\"],[0.3333333333333333,\"#9c179e\"],[0.4444444444444444,\"#bd3786\"],[0.5555555555555556,\"#d8576b\"],[0.6666666666666666,\"#ed7953\"],[0.7777777777777778,\"#fb9f3a\"],[0.8888888888888888,\"#fdca26\"],[1.0,\"#f0f921\"]]}],\"contourcarpet\":[{\"type\":\"contourcarpet\",\"colorbar\":{\"outlinewidth\":0,\"ticks\":\"\"}}],\"contour\":[{\"type\":\"contour\",\"colorbar\":{\"outlinewidth\":0,\"ticks\":\"\"},\"colorscale\":[[0.0,\"#0d0887\"],[0.1111111111111111,\"#46039f\"],[0.2222222222222222,\"#7201a8\"],[0.3333333333333333,\"#9c179e\"],[0.4444444444444444,\"#bd3786\"],[0.5555555555555556,\"#d8576b\"],[0.6666666666666666,\"#ed7953\"],[0.7777777777777778,\"#fb9f3a\"],[0.8888888888888888,\"#fdca26\"],[1.0,\"#f0f921\"]]}],\"surface\":[{\"type\":\"surface\",\"colorbar\":{\"outlinewidth\":0,\"ticks\":\"\"},\"colorscale\":[[0.0,\"#0d0887\"],[0.1111111111111111,\"#46039f\"],[0.2222222222222222,\"#7201a8\"],[0.3333333333333333,\"#9c179e\"],[0.4444444444444444,\"#bd3786\"],[0.5555555555555556,\"#d8576b\"],[0.6666666666666666,\"#ed7953\"],[0.7777777777777778,\"#fb9f3a\"],[0.8888888888888888,\"#fdca26\"],[1.0,\"#f0f921\"]]}],\"mesh3d\":[{\"type\":\"mesh3d\",\"colorbar\":{\"outlinewidth\":0,\"ticks\":\"\"}}],\"scatter\":[{\"fillpattern\":{\"fillmode\":\"overlay\",\"size\":10,\"solidity\":0.2},\"type\":\"scatter\"}],\"parcoords\":[{\"type\":\"parcoords\",\"line\":{\"colorbar\":{\"outlinewidth\":0,\"ticks\":\"\"}}}],\"scatterpolargl\":[{\"type\":\"scatterpolargl\",\"marker\":{\"colorbar\":{\"outlinewidth\":0,\"ticks\":\"\"}}}],\"bar\":[{\"error_x\":{\"color\":\"#2a3f5f\"},\"error_y\":{\"color\":\"#2a3f5f\"},\"marker\":{\"line\":{\"color\":\"#E5ECF6\",\"width\":0.5},\"pattern\":{\"fillmode\":\"overlay\",\"size\":10,\"solidity\":0.2}},\"type\":\"bar\"}],\"scattergeo\":[{\"type\":\"scattergeo\",\"marker\":{\"colorbar\":{\"outlinewidth\":0,\"ticks\":\"\"}}}],\"scatterpolar\":[{\"type\":\"scatterpolar\",\"marker\":{\"colorbar\":{\"outlinewidth\":0,\"ticks\":\"\"}}}],\"histogram\":[{\"marker\":{\"pattern\":{\"fillmode\":\"overlay\",\"size\":10,\"solidity\":0.2}},\"type\":\"histogram\"}],\"scattergl\":[{\"type\":\"scattergl\",\"marker\":{\"colorbar\":{\"outlinewidth\":0,\"ticks\":\"\"}}}],\"scatter3d\":[{\"type\":\"scatter3d\",\"line\":{\"colorbar\":{\"outlinewidth\":0,\"ticks\":\"\"}},\"marker\":{\"colorbar\":{\"outlinewidth\":0,\"ticks\":\"\"}}}],\"scattermapbox\":[{\"type\":\"scattermapbox\",\"marker\":{\"colorbar\":{\"outlinewidth\":0,\"ticks\":\"\"}}}],\"scatterternary\":[{\"type\":\"scatterternary\",\"marker\":{\"colorbar\":{\"outlinewidth\":0,\"ticks\":\"\"}}}],\"scattercarpet\":[{\"type\":\"scattercarpet\",\"marker\":{\"colorbar\":{\"outlinewidth\":0,\"ticks\":\"\"}}}],\"carpet\":[{\"aaxis\":{\"endlinecolor\":\"#2a3f5f\",\"gridcolor\":\"white\",\"linecolor\":\"white\",\"minorgridcolor\":\"white\",\"startlinecolor\":\"#2a3f5f\"},\"baxis\":{\"endlinecolor\":\"#2a3f5f\",\"gridcolor\":\"white\",\"linecolor\":\"white\",\"minorgridcolor\":\"white\",\"startlinecolor\":\"#2a3f5f\"},\"type\":\"carpet\"}],\"table\":[{\"cells\":{\"fill\":{\"color\":\"#EBF0F8\"},\"line\":{\"color\":\"white\"}},\"header\":{\"fill\":{\"color\":\"#C8D4E3\"},\"line\":{\"color\":\"white\"}},\"type\":\"table\"}],\"barpolar\":[{\"marker\":{\"line\":{\"color\":\"#E5ECF6\",\"width\":0.5},\"pattern\":{\"fillmode\":\"overlay\",\"size\":10,\"solidity\":0.2}},\"type\":\"barpolar\"}],\"pie\":[{\"automargin\":true,\"type\":\"pie\"}]},\"layout\":{\"autotypenumbers\":\"strict\",\"colorway\":[\"#636efa\",\"#EF553B\",\"#00cc96\",\"#ab63fa\",\"#FFA15A\",\"#19d3f3\",\"#FF6692\",\"#B6E880\",\"#FF97FF\",\"#FECB52\"],\"font\":{\"color\":\"#2a3f5f\"},\"hovermode\":\"closest\",\"hoverlabel\":{\"align\":\"left\"},\"paper_bgcolor\":\"white\",\"plot_bgcolor\":\"#E5ECF6\",\"polar\":{\"bgcolor\":\"#E5ECF6\",\"angularaxis\":{\"gridcolor\":\"white\",\"linecolor\":\"white\",\"ticks\":\"\"},\"radialaxis\":{\"gridcolor\":\"white\",\"linecolor\":\"white\",\"ticks\":\"\"}},\"ternary\":{\"bgcolor\":\"#E5ECF6\",\"aaxis\":{\"gridcolor\":\"white\",\"linecolor\":\"white\",\"ticks\":\"\"},\"baxis\":{\"gridcolor\":\"white\",\"linecolor\":\"white\",\"ticks\":\"\"},\"caxis\":{\"gridcolor\":\"white\",\"linecolor\":\"white\",\"ticks\":\"\"}},\"coloraxis\":{\"colorbar\":{\"outlinewidth\":0,\"ticks\":\"\"}},\"colorscale\":{\"sequential\":[[0.0,\"#0d0887\"],[0.1111111111111111,\"#46039f\"],[0.2222222222222222,\"#7201a8\"],[0.3333333333333333,\"#9c179e\"],[0.4444444444444444,\"#bd3786\"],[0.5555555555555556,\"#d8576b\"],[0.6666666666666666,\"#ed7953\"],[0.7777777777777778,\"#fb9f3a\"],[0.8888888888888888,\"#fdca26\"],[1.0,\"#f0f921\"]],\"sequentialminus\":[[0.0,\"#0d0887\"],[0.1111111111111111,\"#46039f\"],[0.2222222222222222,\"#7201a8\"],[0.3333333333333333,\"#9c179e\"],[0.4444444444444444,\"#bd3786\"],[0.5555555555555556,\"#d8576b\"],[0.6666666666666666,\"#ed7953\"],[0.7777777777777778,\"#fb9f3a\"],[0.8888888888888888,\"#fdca26\"],[1.0,\"#f0f921\"]],\"diverging\":[[0,\"#8e0152\"],[0.1,\"#c51b7d\"],[0.2,\"#de77ae\"],[0.3,\"#f1b6da\"],[0.4,\"#fde0ef\"],[0.5,\"#f7f7f7\"],[0.6,\"#e6f5d0\"],[0.7,\"#b8e186\"],[0.8,\"#7fbc41\"],[0.9,\"#4d9221\"],[1,\"#276419\"]]},\"xaxis\":{\"gridcolor\":\"white\",\"linecolor\":\"white\",\"ticks\":\"\",\"title\":{\"standoff\":15},\"zerolinecolor\":\"white\",\"automargin\":true,\"zerolinewidth\":2},\"yaxis\":{\"gridcolor\":\"white\",\"linecolor\":\"white\",\"ticks\":\"\",\"title\":{\"standoff\":15},\"zerolinecolor\":\"white\",\"automargin\":true,\"zerolinewidth\":2},\"scene\":{\"xaxis\":{\"backgroundcolor\":\"#E5ECF6\",\"gridcolor\":\"white\",\"linecolor\":\"white\",\"showbackground\":true,\"ticks\":\"\",\"zerolinecolor\":\"white\",\"gridwidth\":2},\"yaxis\":{\"backgroundcolor\":\"#E5ECF6\",\"gridcolor\":\"white\",\"linecolor\":\"white\",\"showbackground\":true,\"ticks\":\"\",\"zerolinecolor\":\"white\",\"gridwidth\":2},\"zaxis\":{\"backgroundcolor\":\"#E5ECF6\",\"gridcolor\":\"white\",\"linecolor\":\"white\",\"showbackground\":true,\"ticks\":\"\",\"zerolinecolor\":\"white\",\"gridwidth\":2}},\"shapedefaults\":{\"line\":{\"color\":\"#2a3f5f\"}},\"annotationdefaults\":{\"arrowcolor\":\"#2a3f5f\",\"arrowhead\":0,\"arrowwidth\":1},\"geo\":{\"bgcolor\":\"white\",\"landcolor\":\"#E5ECF6\",\"subunitcolor\":\"white\",\"showland\":true,\"showlakes\":true,\"lakecolor\":\"white\"},\"title\":{\"x\":0.05},\"mapbox\":{\"style\":\"light\"}}},\"xaxis\":{\"anchor\":\"y\",\"domain\":[0.0,1.0],\"title\":{\"text\":\"year\"}},\"yaxis\":{\"anchor\":\"x\",\"domain\":[0.0,1.0],\"title\":{\"text\":\"realgdp\"}},\"legend\":{\"tracegroupgap\":0},\"margin\":{\"t\":60}},                        {\"responsive\": true}                    ).then(function(){\n",
              "                            \n",
              "var gd = document.getElementById('73fb149d-3407-4d7a-ae2a-42b015268fc3');\n",
              "var x = new MutationObserver(function (mutations, observer) {{\n",
              "        var display = window.getComputedStyle(gd).display;\n",
              "        if (!display || display === 'none') {{\n",
              "            console.log([gd, 'removed!']);\n",
              "            Plotly.purge(gd);\n",
              "            observer.disconnect();\n",
              "        }}\n",
              "}});\n",
              "\n",
              "// Listen for the removal of the full notebook cells\n",
              "var notebookContainer = gd.closest('#notebook-container');\n",
              "if (notebookContainer) {{\n",
              "    x.observe(notebookContainer, {childList: true});\n",
              "}}\n",
              "\n",
              "// Listen for the clearing of the current output cell\n",
              "var outputEl = gd.closest('.output');\n",
              "if (outputEl) {{\n",
              "    x.observe(outputEl, {childList: true});\n",
              "}}\n",
              "\n",
              "                        })                };                            </script>        </div>\n",
              "</body>\n",
              "</html>"
            ]
          },
          "metadata": {}
        }
      ]
    },
    {
      "cell_type": "code",
      "source": [
        "fig = px.line(data, x=data.year, y = data.cpi)\n",
        "fig.show()"
      ],
      "metadata": {
        "colab": {
          "base_uri": "https://localhost:8080/",
          "height": 542
        },
        "id": "PF2u9YX1a-CU",
        "outputId": "096fb2eb-3110-4fae-ec9e-251b32ad4841"
      },
      "execution_count": null,
      "outputs": [
        {
          "output_type": "display_data",
          "data": {
            "text/html": [
              "<html>\n",
              "<head><meta charset=\"utf-8\" /></head>\n",
              "<body>\n",
              "    <div>            <script src=\"https://cdnjs.cloudflare.com/ajax/libs/mathjax/2.7.5/MathJax.js?config=TeX-AMS-MML_SVG\"></script><script type=\"text/javascript\">if (window.MathJax && window.MathJax.Hub && window.MathJax.Hub.Config) {window.MathJax.Hub.Config({SVG: {font: \"STIX-Web\"}});}</script>                <script type=\"text/javascript\">window.PlotlyConfig = {MathJaxConfig: 'local'};</script>\n",
              "        <script src=\"https://cdn.plot.ly/plotly-2.18.2.min.js\"></script>                <div id=\"b83a895e-a8cd-4d41-b37c-6405dd0bbf25\" class=\"plotly-graph-div\" style=\"height:525px; width:100%;\"></div>            <script type=\"text/javascript\">                                    window.PLOTLYENV=window.PLOTLYENV || {};                                    if (document.getElementById(\"b83a895e-a8cd-4d41-b37c-6405dd0bbf25\")) {                    Plotly.newPlot(                        \"b83a895e-a8cd-4d41-b37c-6405dd0bbf25\",                        [{\"hovertemplate\":\"year=%{x}<br>cpi=%{y}<extra></extra>\",\"legendgroup\":\"\",\"line\":{\"color\":\"#636efa\",\"dash\":\"solid\"},\"marker\":{\"symbol\":\"circle\"},\"mode\":\"lines\",\"name\":\"\",\"orientation\":\"v\",\"showlegend\":false,\"x\":[1959.0,1959.0,1959.0,1959.0,1960.0,1960.0,1960.0,1960.0,1961.0,1961.0,1961.0,1961.0,1962.0,1962.0,1962.0,1962.0,1963.0,1963.0,1963.0,1963.0,1964.0,1964.0,1964.0,1964.0,1965.0,1965.0,1965.0,1965.0,1966.0,1966.0,1966.0,1966.0,1967.0,1967.0,1967.0,1967.0,1968.0,1968.0,1968.0,1968.0,1969.0,1969.0,1969.0,1969.0,1970.0,1970.0,1970.0,1970.0,1971.0,1971.0,1971.0,1971.0,1972.0,1972.0,1972.0,1972.0,1973.0,1973.0,1973.0,1973.0,1974.0,1974.0,1974.0,1974.0,1975.0,1975.0,1975.0,1975.0,1976.0,1976.0,1976.0,1976.0,1977.0,1977.0,1977.0,1977.0,1978.0,1978.0,1978.0,1978.0,1979.0,1979.0,1979.0,1979.0,1980.0,1980.0,1980.0,1980.0,1981.0,1981.0,1981.0,1981.0,1982.0,1982.0,1982.0,1982.0,1983.0,1983.0,1983.0,1983.0,1984.0,1984.0,1984.0,1984.0,1985.0,1985.0,1985.0,1985.0,1986.0,1986.0,1986.0,1986.0,1987.0,1987.0,1987.0,1987.0,1988.0,1988.0,1988.0,1988.0,1989.0,1989.0,1989.0,1989.0,1990.0,1990.0,1990.0,1990.0,1991.0,1991.0,1991.0,1991.0,1992.0,1992.0,1992.0,1992.0,1993.0,1993.0,1993.0,1993.0,1994.0,1994.0,1994.0,1994.0,1995.0,1995.0,1995.0,1995.0,1996.0,1996.0,1996.0,1996.0,1997.0,1997.0,1997.0,1997.0,1998.0,1998.0,1998.0,1998.0,1999.0,1999.0,1999.0,1999.0,2000.0,2000.0,2000.0,2000.0,2001.0,2001.0,2001.0,2001.0,2002.0,2002.0,2002.0,2002.0,2003.0,2003.0,2003.0,2003.0,2004.0,2004.0,2004.0,2004.0,2005.0,2005.0,2005.0,2005.0,2006.0,2006.0,2006.0,2006.0,2007.0,2007.0,2007.0,2007.0,2008.0,2008.0,2008.0,2008.0,2009.0,2009.0,2009.0],\"xaxis\":\"x\",\"y\":[28.98,29.15,29.35,29.37,29.54,29.55,29.75,29.84,29.81,29.92,29.98,30.04,30.21,30.22,30.38,30.44,30.48,30.69,30.75,30.94,30.95,31.02,31.12,31.28,31.38,31.58,31.65,31.88,32.28,32.45,32.85,32.9,33.1,33.4,33.7,34.1,34.4,34.9,35.3,35.7,36.3,36.8,37.3,37.9,38.5,38.9,39.4,39.9,40.1,40.6,40.9,41.2,41.5,41.8,42.2,42.7,43.7,44.2,45.6,46.8,48.1,49.3,51.0,52.3,53.0,54.0,54.9,55.8,56.1,57.0,57.9,58.7,60.0,60.8,61.6,62.7,63.9,65.5,67.1,68.5,70.6,73.0,75.2,78.0,80.9,82.6,84.7,87.2,89.1,91.5,93.4,94.4,95.0,97.5,98.1,97.9,98.8,99.8,100.8,102.1,103.3,104.1,105.1,105.7,107.0,107.7,108.5,109.9,108.7,109.5,110.2,111.4,112.7,113.8,115.0,116.0,117.2,118.5,119.9,121.2,123.1,124.5,125.4,127.5,128.9,130.5,133.4,134.7,135.1,136.2,137.2,138.3,139.4,140.5,141.7,142.8,143.8,144.5,145.6,146.3,147.2,148.4,149.4,150.5,151.8,152.6,153.5,154.7,156.1,157.0,158.2,159.4,159.9,160.4,161.5,162.0,162.2,163.2,163.9,164.7,165.9,166.7,168.1,169.3,170.9,172.7,173.9,175.6,176.4,177.4,177.6,177.7,179.3,180.0,181.2,182.6,183.2,183.7,184.9,186.3,187.4,189.1,190.8,191.8,193.8,194.7,199.2,199.4,200.7,202.7,201.9,203.574,205.92,207.338,209.133,212.495,213.997,218.61,216.889,212.174,212.671,214.469,216.385],\"yaxis\":\"y\",\"type\":\"scatter\"}],                        {\"template\":{\"data\":{\"histogram2dcontour\":[{\"type\":\"histogram2dcontour\",\"colorbar\":{\"outlinewidth\":0,\"ticks\":\"\"},\"colorscale\":[[0.0,\"#0d0887\"],[0.1111111111111111,\"#46039f\"],[0.2222222222222222,\"#7201a8\"],[0.3333333333333333,\"#9c179e\"],[0.4444444444444444,\"#bd3786\"],[0.5555555555555556,\"#d8576b\"],[0.6666666666666666,\"#ed7953\"],[0.7777777777777778,\"#fb9f3a\"],[0.8888888888888888,\"#fdca26\"],[1.0,\"#f0f921\"]]}],\"choropleth\":[{\"type\":\"choropleth\",\"colorbar\":{\"outlinewidth\":0,\"ticks\":\"\"}}],\"histogram2d\":[{\"type\":\"histogram2d\",\"colorbar\":{\"outlinewidth\":0,\"ticks\":\"\"},\"colorscale\":[[0.0,\"#0d0887\"],[0.1111111111111111,\"#46039f\"],[0.2222222222222222,\"#7201a8\"],[0.3333333333333333,\"#9c179e\"],[0.4444444444444444,\"#bd3786\"],[0.5555555555555556,\"#d8576b\"],[0.6666666666666666,\"#ed7953\"],[0.7777777777777778,\"#fb9f3a\"],[0.8888888888888888,\"#fdca26\"],[1.0,\"#f0f921\"]]}],\"heatmap\":[{\"type\":\"heatmap\",\"colorbar\":{\"outlinewidth\":0,\"ticks\":\"\"},\"colorscale\":[[0.0,\"#0d0887\"],[0.1111111111111111,\"#46039f\"],[0.2222222222222222,\"#7201a8\"],[0.3333333333333333,\"#9c179e\"],[0.4444444444444444,\"#bd3786\"],[0.5555555555555556,\"#d8576b\"],[0.6666666666666666,\"#ed7953\"],[0.7777777777777778,\"#fb9f3a\"],[0.8888888888888888,\"#fdca26\"],[1.0,\"#f0f921\"]]}],\"heatmapgl\":[{\"type\":\"heatmapgl\",\"colorbar\":{\"outlinewidth\":0,\"ticks\":\"\"},\"colorscale\":[[0.0,\"#0d0887\"],[0.1111111111111111,\"#46039f\"],[0.2222222222222222,\"#7201a8\"],[0.3333333333333333,\"#9c179e\"],[0.4444444444444444,\"#bd3786\"],[0.5555555555555556,\"#d8576b\"],[0.6666666666666666,\"#ed7953\"],[0.7777777777777778,\"#fb9f3a\"],[0.8888888888888888,\"#fdca26\"],[1.0,\"#f0f921\"]]}],\"contourcarpet\":[{\"type\":\"contourcarpet\",\"colorbar\":{\"outlinewidth\":0,\"ticks\":\"\"}}],\"contour\":[{\"type\":\"contour\",\"colorbar\":{\"outlinewidth\":0,\"ticks\":\"\"},\"colorscale\":[[0.0,\"#0d0887\"],[0.1111111111111111,\"#46039f\"],[0.2222222222222222,\"#7201a8\"],[0.3333333333333333,\"#9c179e\"],[0.4444444444444444,\"#bd3786\"],[0.5555555555555556,\"#d8576b\"],[0.6666666666666666,\"#ed7953\"],[0.7777777777777778,\"#fb9f3a\"],[0.8888888888888888,\"#fdca26\"],[1.0,\"#f0f921\"]]}],\"surface\":[{\"type\":\"surface\",\"colorbar\":{\"outlinewidth\":0,\"ticks\":\"\"},\"colorscale\":[[0.0,\"#0d0887\"],[0.1111111111111111,\"#46039f\"],[0.2222222222222222,\"#7201a8\"],[0.3333333333333333,\"#9c179e\"],[0.4444444444444444,\"#bd3786\"],[0.5555555555555556,\"#d8576b\"],[0.6666666666666666,\"#ed7953\"],[0.7777777777777778,\"#fb9f3a\"],[0.8888888888888888,\"#fdca26\"],[1.0,\"#f0f921\"]]}],\"mesh3d\":[{\"type\":\"mesh3d\",\"colorbar\":{\"outlinewidth\":0,\"ticks\":\"\"}}],\"scatter\":[{\"fillpattern\":{\"fillmode\":\"overlay\",\"size\":10,\"solidity\":0.2},\"type\":\"scatter\"}],\"parcoords\":[{\"type\":\"parcoords\",\"line\":{\"colorbar\":{\"outlinewidth\":0,\"ticks\":\"\"}}}],\"scatterpolargl\":[{\"type\":\"scatterpolargl\",\"marker\":{\"colorbar\":{\"outlinewidth\":0,\"ticks\":\"\"}}}],\"bar\":[{\"error_x\":{\"color\":\"#2a3f5f\"},\"error_y\":{\"color\":\"#2a3f5f\"},\"marker\":{\"line\":{\"color\":\"#E5ECF6\",\"width\":0.5},\"pattern\":{\"fillmode\":\"overlay\",\"size\":10,\"solidity\":0.2}},\"type\":\"bar\"}],\"scattergeo\":[{\"type\":\"scattergeo\",\"marker\":{\"colorbar\":{\"outlinewidth\":0,\"ticks\":\"\"}}}],\"scatterpolar\":[{\"type\":\"scatterpolar\",\"marker\":{\"colorbar\":{\"outlinewidth\":0,\"ticks\":\"\"}}}],\"histogram\":[{\"marker\":{\"pattern\":{\"fillmode\":\"overlay\",\"size\":10,\"solidity\":0.2}},\"type\":\"histogram\"}],\"scattergl\":[{\"type\":\"scattergl\",\"marker\":{\"colorbar\":{\"outlinewidth\":0,\"ticks\":\"\"}}}],\"scatter3d\":[{\"type\":\"scatter3d\",\"line\":{\"colorbar\":{\"outlinewidth\":0,\"ticks\":\"\"}},\"marker\":{\"colorbar\":{\"outlinewidth\":0,\"ticks\":\"\"}}}],\"scattermapbox\":[{\"type\":\"scattermapbox\",\"marker\":{\"colorbar\":{\"outlinewidth\":0,\"ticks\":\"\"}}}],\"scatterternary\":[{\"type\":\"scatterternary\",\"marker\":{\"colorbar\":{\"outlinewidth\":0,\"ticks\":\"\"}}}],\"scattercarpet\":[{\"type\":\"scattercarpet\",\"marker\":{\"colorbar\":{\"outlinewidth\":0,\"ticks\":\"\"}}}],\"carpet\":[{\"aaxis\":{\"endlinecolor\":\"#2a3f5f\",\"gridcolor\":\"white\",\"linecolor\":\"white\",\"minorgridcolor\":\"white\",\"startlinecolor\":\"#2a3f5f\"},\"baxis\":{\"endlinecolor\":\"#2a3f5f\",\"gridcolor\":\"white\",\"linecolor\":\"white\",\"minorgridcolor\":\"white\",\"startlinecolor\":\"#2a3f5f\"},\"type\":\"carpet\"}],\"table\":[{\"cells\":{\"fill\":{\"color\":\"#EBF0F8\"},\"line\":{\"color\":\"white\"}},\"header\":{\"fill\":{\"color\":\"#C8D4E3\"},\"line\":{\"color\":\"white\"}},\"type\":\"table\"}],\"barpolar\":[{\"marker\":{\"line\":{\"color\":\"#E5ECF6\",\"width\":0.5},\"pattern\":{\"fillmode\":\"overlay\",\"size\":10,\"solidity\":0.2}},\"type\":\"barpolar\"}],\"pie\":[{\"automargin\":true,\"type\":\"pie\"}]},\"layout\":{\"autotypenumbers\":\"strict\",\"colorway\":[\"#636efa\",\"#EF553B\",\"#00cc96\",\"#ab63fa\",\"#FFA15A\",\"#19d3f3\",\"#FF6692\",\"#B6E880\",\"#FF97FF\",\"#FECB52\"],\"font\":{\"color\":\"#2a3f5f\"},\"hovermode\":\"closest\",\"hoverlabel\":{\"align\":\"left\"},\"paper_bgcolor\":\"white\",\"plot_bgcolor\":\"#E5ECF6\",\"polar\":{\"bgcolor\":\"#E5ECF6\",\"angularaxis\":{\"gridcolor\":\"white\",\"linecolor\":\"white\",\"ticks\":\"\"},\"radialaxis\":{\"gridcolor\":\"white\",\"linecolor\":\"white\",\"ticks\":\"\"}},\"ternary\":{\"bgcolor\":\"#E5ECF6\",\"aaxis\":{\"gridcolor\":\"white\",\"linecolor\":\"white\",\"ticks\":\"\"},\"baxis\":{\"gridcolor\":\"white\",\"linecolor\":\"white\",\"ticks\":\"\"},\"caxis\":{\"gridcolor\":\"white\",\"linecolor\":\"white\",\"ticks\":\"\"}},\"coloraxis\":{\"colorbar\":{\"outlinewidth\":0,\"ticks\":\"\"}},\"colorscale\":{\"sequential\":[[0.0,\"#0d0887\"],[0.1111111111111111,\"#46039f\"],[0.2222222222222222,\"#7201a8\"],[0.3333333333333333,\"#9c179e\"],[0.4444444444444444,\"#bd3786\"],[0.5555555555555556,\"#d8576b\"],[0.6666666666666666,\"#ed7953\"],[0.7777777777777778,\"#fb9f3a\"],[0.8888888888888888,\"#fdca26\"],[1.0,\"#f0f921\"]],\"sequentialminus\":[[0.0,\"#0d0887\"],[0.1111111111111111,\"#46039f\"],[0.2222222222222222,\"#7201a8\"],[0.3333333333333333,\"#9c179e\"],[0.4444444444444444,\"#bd3786\"],[0.5555555555555556,\"#d8576b\"],[0.6666666666666666,\"#ed7953\"],[0.7777777777777778,\"#fb9f3a\"],[0.8888888888888888,\"#fdca26\"],[1.0,\"#f0f921\"]],\"diverging\":[[0,\"#8e0152\"],[0.1,\"#c51b7d\"],[0.2,\"#de77ae\"],[0.3,\"#f1b6da\"],[0.4,\"#fde0ef\"],[0.5,\"#f7f7f7\"],[0.6,\"#e6f5d0\"],[0.7,\"#b8e186\"],[0.8,\"#7fbc41\"],[0.9,\"#4d9221\"],[1,\"#276419\"]]},\"xaxis\":{\"gridcolor\":\"white\",\"linecolor\":\"white\",\"ticks\":\"\",\"title\":{\"standoff\":15},\"zerolinecolor\":\"white\",\"automargin\":true,\"zerolinewidth\":2},\"yaxis\":{\"gridcolor\":\"white\",\"linecolor\":\"white\",\"ticks\":\"\",\"title\":{\"standoff\":15},\"zerolinecolor\":\"white\",\"automargin\":true,\"zerolinewidth\":2},\"scene\":{\"xaxis\":{\"backgroundcolor\":\"#E5ECF6\",\"gridcolor\":\"white\",\"linecolor\":\"white\",\"showbackground\":true,\"ticks\":\"\",\"zerolinecolor\":\"white\",\"gridwidth\":2},\"yaxis\":{\"backgroundcolor\":\"#E5ECF6\",\"gridcolor\":\"white\",\"linecolor\":\"white\",\"showbackground\":true,\"ticks\":\"\",\"zerolinecolor\":\"white\",\"gridwidth\":2},\"zaxis\":{\"backgroundcolor\":\"#E5ECF6\",\"gridcolor\":\"white\",\"linecolor\":\"white\",\"showbackground\":true,\"ticks\":\"\",\"zerolinecolor\":\"white\",\"gridwidth\":2}},\"shapedefaults\":{\"line\":{\"color\":\"#2a3f5f\"}},\"annotationdefaults\":{\"arrowcolor\":\"#2a3f5f\",\"arrowhead\":0,\"arrowwidth\":1},\"geo\":{\"bgcolor\":\"white\",\"landcolor\":\"#E5ECF6\",\"subunitcolor\":\"white\",\"showland\":true,\"showlakes\":true,\"lakecolor\":\"white\"},\"title\":{\"x\":0.05},\"mapbox\":{\"style\":\"light\"}}},\"xaxis\":{\"anchor\":\"y\",\"domain\":[0.0,1.0],\"title\":{\"text\":\"year\"}},\"yaxis\":{\"anchor\":\"x\",\"domain\":[0.0,1.0],\"title\":{\"text\":\"cpi\"}},\"legend\":{\"tracegroupgap\":0},\"margin\":{\"t\":60}},                        {\"responsive\": true}                    ).then(function(){\n",
              "                            \n",
              "var gd = document.getElementById('b83a895e-a8cd-4d41-b37c-6405dd0bbf25');\n",
              "var x = new MutationObserver(function (mutations, observer) {{\n",
              "        var display = window.getComputedStyle(gd).display;\n",
              "        if (!display || display === 'none') {{\n",
              "            console.log([gd, 'removed!']);\n",
              "            Plotly.purge(gd);\n",
              "            observer.disconnect();\n",
              "        }}\n",
              "}});\n",
              "\n",
              "// Listen for the removal of the full notebook cells\n",
              "var notebookContainer = gd.closest('#notebook-container');\n",
              "if (notebookContainer) {{\n",
              "    x.observe(notebookContainer, {childList: true});\n",
              "}}\n",
              "\n",
              "// Listen for the clearing of the current output cell\n",
              "var outputEl = gd.closest('.output');\n",
              "if (outputEl) {{\n",
              "    x.observe(outputEl, {childList: true});\n",
              "}}\n",
              "\n",
              "                        })                };                            </script>        </div>\n",
              "</body>\n",
              "</html>"
            ]
          },
          "metadata": {}
        }
      ]
    },
    {
      "cell_type": "code",
      "source": [
        "# stationarity tets\n",
        "col = data[['realgdp','cpi']]\n",
        "for (columnName, columnData) in col.iteritems():\n",
        "  ad_fuller_tetst=adfuller(columnData)\n",
        "  print(f'{columnName} P-value: {ad_fuller_tetst[1]}' )\n"
      ],
      "metadata": {
        "colab": {
          "base_uri": "https://localhost:8080/"
        },
        "id": "OkTDiKeRdOy1",
        "outputId": "450408c1-2f7a-4329-cf32-3394fd600846"
      },
      "execution_count": null,
      "outputs": [
        {
          "output_type": "stream",
          "name": "stdout",
          "text": [
            "realgdp P-value: 0.9982455372335032\n",
            "cpi P-value: 0.9904328188337422\n"
          ]
        }
      ]
    },
    {
      "cell_type": "code",
      "source": [
        "data1 = col.diff()\n",
        "data1.index=data['year']\n"
      ],
      "metadata": {
        "id": "CpbIYioVdE-v"
      },
      "execution_count": null,
      "outputs": []
    },
    {
      "cell_type": "code",
      "source": [
        "fig = px.line(data1, x=data.year, y = data1.columns)\n",
        "fig.show()"
      ],
      "metadata": {
        "colab": {
          "base_uri": "https://localhost:8080/",
          "height": 542
        },
        "id": "F-8q9Cu5jbLa",
        "outputId": "73686608-eb77-4c64-8733-8697b7bb1920"
      },
      "execution_count": null,
      "outputs": [
        {
          "output_type": "display_data",
          "data": {
            "text/html": [
              "<html>\n",
              "<head><meta charset=\"utf-8\" /></head>\n",
              "<body>\n",
              "    <div>            <script src=\"https://cdnjs.cloudflare.com/ajax/libs/mathjax/2.7.5/MathJax.js?config=TeX-AMS-MML_SVG\"></script><script type=\"text/javascript\">if (window.MathJax && window.MathJax.Hub && window.MathJax.Hub.Config) {window.MathJax.Hub.Config({SVG: {font: \"STIX-Web\"}});}</script>                <script type=\"text/javascript\">window.PlotlyConfig = {MathJaxConfig: 'local'};</script>\n",
              "        <script src=\"https://cdn.plot.ly/plotly-2.18.2.min.js\"></script>                <div id=\"98c78236-4285-4e1c-801a-561d6cf2ab27\" class=\"plotly-graph-div\" style=\"height:525px; width:100%;\"></div>            <script type=\"text/javascript\">                                    window.PLOTLYENV=window.PLOTLYENV || {};                                    if (document.getElementById(\"98c78236-4285-4e1c-801a-561d6cf2ab27\")) {                    Plotly.newPlot(                        \"98c78236-4285-4e1c-801a-561d6cf2ab27\",                        [{\"hovertemplate\":\"variable=realgdp<br>x=%{x}<br>value=%{y}<extra></extra>\",\"legendgroup\":\"realgdp\",\"line\":{\"color\":\"#636efa\",\"dash\":\"solid\"},\"marker\":{\"symbol\":\"circle\"},\"mode\":\"lines\",\"name\":\"realgdp\",\"orientation\":\"v\",\"showlegend\":true,\"x\":[1959.0,1959.0,1959.0,1959.0,1960.0,1960.0,1960.0,1960.0,1961.0,1961.0,1961.0,1961.0,1962.0,1962.0,1962.0,1962.0,1963.0,1963.0,1963.0,1963.0,1964.0,1964.0,1964.0,1964.0,1965.0,1965.0,1965.0,1965.0,1966.0,1966.0,1966.0,1966.0,1967.0,1967.0,1967.0,1967.0,1968.0,1968.0,1968.0,1968.0,1969.0,1969.0,1969.0,1969.0,1970.0,1970.0,1970.0,1970.0,1971.0,1971.0,1971.0,1971.0,1972.0,1972.0,1972.0,1972.0,1973.0,1973.0,1973.0,1973.0,1974.0,1974.0,1974.0,1974.0,1975.0,1975.0,1975.0,1975.0,1976.0,1976.0,1976.0,1976.0,1977.0,1977.0,1977.0,1977.0,1978.0,1978.0,1978.0,1978.0,1979.0,1979.0,1979.0,1979.0,1980.0,1980.0,1980.0,1980.0,1981.0,1981.0,1981.0,1981.0,1982.0,1982.0,1982.0,1982.0,1983.0,1983.0,1983.0,1983.0,1984.0,1984.0,1984.0,1984.0,1985.0,1985.0,1985.0,1985.0,1986.0,1986.0,1986.0,1986.0,1987.0,1987.0,1987.0,1987.0,1988.0,1988.0,1988.0,1988.0,1989.0,1989.0,1989.0,1989.0,1990.0,1990.0,1990.0,1990.0,1991.0,1991.0,1991.0,1991.0,1992.0,1992.0,1992.0,1992.0,1993.0,1993.0,1993.0,1993.0,1994.0,1994.0,1994.0,1994.0,1995.0,1995.0,1995.0,1995.0,1996.0,1996.0,1996.0,1996.0,1997.0,1997.0,1997.0,1997.0,1998.0,1998.0,1998.0,1998.0,1999.0,1999.0,1999.0,1999.0,2000.0,2000.0,2000.0,2000.0,2001.0,2001.0,2001.0,2001.0,2002.0,2002.0,2002.0,2002.0,2003.0,2003.0,2003.0,2003.0,2004.0,2004.0,2004.0,2004.0,2005.0,2005.0,2005.0,2005.0,2006.0,2006.0,2006.0,2006.0,2007.0,2007.0,2007.0,2007.0,2008.0,2008.0,2008.0,2008.0,2009.0,2009.0,2009.0],\"xaxis\":\"x\",\"y\":[null,68.45199999999977,-3.313000000000102,9.71600000000035,62.49499999999989,-13.309000000000196,4.632000000000062,-36.40599999999995,16.64800000000014,52.740999999999985,46.41399999999976,59.41100000000006,53.41100000000006,33.46799999999985,28.338000000000193,7.516000000000076,40.52399999999989,39.36000000000013,59.88499999999976,24.63500000000022,73.279,38.340999999999894,45.88200000000006,9.487999999999829,84.29400000000032,47.70899999999983,72.32499999999982,87.72900000000027,91.40899999999965,12.701000000000022,25.177000000000135,31.21900000000005,34.2199999999998,0.8160000000002583,31.269999999999982,30.143999999999778,82.04300000000012,68.98499999999967,28.269000000000233,18.02599999999984,65.8070000000007,12.359999999999673,26.917999999999665,-20.11699999999928,-6.688000000000102,7.71599999999944,37.970000000000255,-45.6220000000003,117.3789999999999,24.813000000000102,35.11400000000049,12.320999999999913,79.50500000000011,107.33199999999943,44.402000000000044,77.04300000000057,121.61999999999989,56.404999999999745,-26.318999999999505,46.797999999999774,-43.43299999999999,12.570999999999913,-48.667999999999665,-19.18000000000029,-59.04500000000007,36.646999999999935,81.38600000000042,64.18299999999999,113.15199999999913,38.28400000000056,25.125,37.42699999999968,60.26299999999992,104.3690000000006,95.78999999999996,-1.1280000000006112,18.61200000000008,215.16400000000067,55.73099999999977,75.92199999999957,9.726999999999862,5.469000000000051,41.91700000000037,16.159999999999854,18.971999999999753,-121.09400000000005,-10.755999999999403,106.84299999999985,122.2569999999996,-47.92199999999957,72.38900000000012,-75.1220000000003,-97.72900000000027,31.740999999999985,-22.703999999999724,4.631000000000313,73.01900000000023,133.59899999999925,119.84900000000016,128.10599999999977,122.69000000000051,111.32999999999993,63.748999999999796,53.92100000000028,63.01099999999951,57.069000000000415,106.17900000000009,52.39499999999953,66.83899999999994,28.212000000000444,67.98099999999977,34.40900000000056,39.659999999999854,76.49099999999999,63.047999999999774,125.46399999999994,38.57800000000043,96.28099999999995,39.20100000000002,101.90899999999965,72.61200000000008,58.412999999999556,62.37700000000041,17.304000000000087,82.9960000000001,31.904999999999745,-0.12200000000029831,-70.61200000000008,-38.69999999999982,53.65800000000036,33.71599999999944,31.50800000000072,88.56999999999971,86.67799999999988,85.06700000000092,87.65499999999884,15.46900000000096,53.94999999999891,44.673000000000684,112.66100000000006,84.14999999999964,119.38400000000001,56.986000000000786,98.89099999999962,22.086999999999534,19.40099999999984,76.01599999999962,63.59100000000035,62.913000000000466,159.86399999999958,81.82700000000114,103.57899999999972,73.77700000000004,143.3159999999989,123.121000000001,76.20199999999932,94.55099999999948,90.85200000000077,134.51000000000022,178.78800000000047,93.60399999999936,82.8700000000008,135.86499999999978,194.34000000000015,28.789999999999054,215.40999999999985,9.413000000000466,66.67699999999968,-37.37299999999959,74.07999999999993,-31.175999999999476,40.052999999999884,97.73999999999978,60.902000000000044,57.659999999999854,2.394000000000233,46.99499999999898,92.88700000000063,196.7549999999992,107.35599999999977,84.8060000000005,86.19499999999971,89.71500000000015,106.7489999999998,123.83100000000013,53.42200000000048,95.6180000000004,65.54600000000028,167.23899999999958,46.52399999999943,3.4539999999997235,94.76300000000083,39.22199999999975,104.07600000000093,117.1319999999996,70.13999999999942,-24.384000000000015,48.40099999999984,-90.66599999999926,-182.6800000000003,-216.51000000000022,-23.90599999999904,88.83699999999953],\"yaxis\":\"y\",\"type\":\"scatter\"},{\"hovertemplate\":\"variable=cpi<br>x=%{x}<br>value=%{y}<extra></extra>\",\"legendgroup\":\"cpi\",\"line\":{\"color\":\"#EF553B\",\"dash\":\"solid\"},\"marker\":{\"symbol\":\"circle\"},\"mode\":\"lines\",\"name\":\"cpi\",\"orientation\":\"v\",\"showlegend\":true,\"x\":[1959.0,1959.0,1959.0,1959.0,1960.0,1960.0,1960.0,1960.0,1961.0,1961.0,1961.0,1961.0,1962.0,1962.0,1962.0,1962.0,1963.0,1963.0,1963.0,1963.0,1964.0,1964.0,1964.0,1964.0,1965.0,1965.0,1965.0,1965.0,1966.0,1966.0,1966.0,1966.0,1967.0,1967.0,1967.0,1967.0,1968.0,1968.0,1968.0,1968.0,1969.0,1969.0,1969.0,1969.0,1970.0,1970.0,1970.0,1970.0,1971.0,1971.0,1971.0,1971.0,1972.0,1972.0,1972.0,1972.0,1973.0,1973.0,1973.0,1973.0,1974.0,1974.0,1974.0,1974.0,1975.0,1975.0,1975.0,1975.0,1976.0,1976.0,1976.0,1976.0,1977.0,1977.0,1977.0,1977.0,1978.0,1978.0,1978.0,1978.0,1979.0,1979.0,1979.0,1979.0,1980.0,1980.0,1980.0,1980.0,1981.0,1981.0,1981.0,1981.0,1982.0,1982.0,1982.0,1982.0,1983.0,1983.0,1983.0,1983.0,1984.0,1984.0,1984.0,1984.0,1985.0,1985.0,1985.0,1985.0,1986.0,1986.0,1986.0,1986.0,1987.0,1987.0,1987.0,1987.0,1988.0,1988.0,1988.0,1988.0,1989.0,1989.0,1989.0,1989.0,1990.0,1990.0,1990.0,1990.0,1991.0,1991.0,1991.0,1991.0,1992.0,1992.0,1992.0,1992.0,1993.0,1993.0,1993.0,1993.0,1994.0,1994.0,1994.0,1994.0,1995.0,1995.0,1995.0,1995.0,1996.0,1996.0,1996.0,1996.0,1997.0,1997.0,1997.0,1997.0,1998.0,1998.0,1998.0,1998.0,1999.0,1999.0,1999.0,1999.0,2000.0,2000.0,2000.0,2000.0,2001.0,2001.0,2001.0,2001.0,2002.0,2002.0,2002.0,2002.0,2003.0,2003.0,2003.0,2003.0,2004.0,2004.0,2004.0,2004.0,2005.0,2005.0,2005.0,2005.0,2006.0,2006.0,2006.0,2006.0,2007.0,2007.0,2007.0,2007.0,2008.0,2008.0,2008.0,2008.0,2009.0,2009.0,2009.0],\"xaxis\":\"x\",\"y\":[null,0.16999999999999815,0.20000000000000284,0.019999999999999574,0.16999999999999815,0.010000000000001563,0.1999999999999993,0.08999999999999986,-0.030000000000001137,0.11000000000000298,0.05999999999999872,0.05999999999999872,0.1700000000000017,0.00999999999999801,0.16000000000000014,0.060000000000002274,0.03999999999999915,0.21000000000000085,0.05999999999999872,0.19000000000000128,0.00999999999999801,0.07000000000000028,0.10000000000000142,0.16000000000000014,0.09999999999999787,0.1999999999999993,0.07000000000000028,0.23000000000000043,0.40000000000000213,0.1700000000000017,0.3999999999999986,0.04999999999999716,0.20000000000000284,0.29999999999999716,0.30000000000000426,0.3999999999999986,0.29999999999999716,0.5,0.3999999999999986,0.4000000000000057,0.5999999999999943,0.5,0.5,0.6000000000000014,0.6000000000000014,0.3999999999999986,0.5,0.5,0.20000000000000284,0.5,0.29999999999999716,0.30000000000000426,0.29999999999999716,0.29999999999999716,0.4000000000000057,0.5,1.0,0.5,1.3999999999999986,1.1999999999999957,1.3000000000000043,1.1999999999999957,1.7000000000000028,1.2999999999999972,0.7000000000000028,1.0,0.8999999999999986,0.8999999999999986,0.30000000000000426,0.8999999999999986,0.8999999999999986,0.8000000000000043,1.2999999999999972,0.7999999999999972,0.8000000000000043,1.1000000000000014,1.1999999999999957,1.6000000000000014,1.5999999999999943,1.4000000000000057,2.0999999999999943,2.4000000000000057,2.200000000000003,2.799999999999997,2.9000000000000057,1.6999999999999886,2.1000000000000085,2.5,1.8999999999999915,2.4000000000000057,1.9000000000000057,1.0,0.5999999999999943,2.5,0.5999999999999943,-0.19999999999998863,0.8999999999999915,1.0,1.0,1.2999999999999972,1.2000000000000028,0.7999999999999972,1.0,0.6000000000000085,1.2999999999999972,0.7000000000000028,0.7999999999999972,1.4000000000000057,-1.2000000000000028,0.7999999999999972,0.7000000000000028,1.2000000000000028,1.2999999999999972,1.0999999999999943,1.2000000000000028,1.0,1.2000000000000028,1.2999999999999972,1.4000000000000057,1.2999999999999972,1.8999999999999915,1.4000000000000057,0.9000000000000057,2.0999999999999943,1.4000000000000057,1.5999999999999943,2.9000000000000057,1.299999999999983,0.4000000000000057,1.0999999999999943,1.0,1.1000000000000227,1.0999999999999943,1.0999999999999943,1.1999999999999886,1.1000000000000227,1.0,0.6999999999999886,1.0999999999999943,0.700000000000017,0.8999999999999773,1.200000000000017,1.0,1.0999999999999943,1.3000000000000114,0.799999999999983,0.9000000000000057,1.1999999999999886,1.4000000000000057,0.9000000000000057,1.1999999999999886,1.200000000000017,0.5,0.5,1.0999999999999943,0.5,0.19999999999998863,1.0,0.700000000000017,0.799999999999983,1.200000000000017,0.799999999999983,1.4000000000000057,1.200000000000017,1.5999999999999943,1.799999999999983,1.200000000000017,1.6999999999999886,0.8000000000000114,1.0,0.19999999999998863,0.09999999999999432,1.6000000000000227,0.6999999999999886,1.1999999999999886,1.4000000000000057,0.5999999999999943,0.5,1.200000000000017,1.4000000000000057,1.0999999999999943,1.6999999999999886,1.700000000000017,1.0,2.0,0.8999999999999773,4.5,0.20000000000001705,1.299999999999983,2.0,-0.799999999999983,1.6740000000000066,2.345999999999975,1.4180000000000064,1.795000000000016,3.3619999999999948,1.5020000000000095,4.6129999999999995,-1.7210000000000036,-4.715000000000003,0.4969999999999857,1.7980000000000018,1.9159999999999968],\"yaxis\":\"y\",\"type\":\"scatter\"}],                        {\"template\":{\"data\":{\"histogram2dcontour\":[{\"type\":\"histogram2dcontour\",\"colorbar\":{\"outlinewidth\":0,\"ticks\":\"\"},\"colorscale\":[[0.0,\"#0d0887\"],[0.1111111111111111,\"#46039f\"],[0.2222222222222222,\"#7201a8\"],[0.3333333333333333,\"#9c179e\"],[0.4444444444444444,\"#bd3786\"],[0.5555555555555556,\"#d8576b\"],[0.6666666666666666,\"#ed7953\"],[0.7777777777777778,\"#fb9f3a\"],[0.8888888888888888,\"#fdca26\"],[1.0,\"#f0f921\"]]}],\"choropleth\":[{\"type\":\"choropleth\",\"colorbar\":{\"outlinewidth\":0,\"ticks\":\"\"}}],\"histogram2d\":[{\"type\":\"histogram2d\",\"colorbar\":{\"outlinewidth\":0,\"ticks\":\"\"},\"colorscale\":[[0.0,\"#0d0887\"],[0.1111111111111111,\"#46039f\"],[0.2222222222222222,\"#7201a8\"],[0.3333333333333333,\"#9c179e\"],[0.4444444444444444,\"#bd3786\"],[0.5555555555555556,\"#d8576b\"],[0.6666666666666666,\"#ed7953\"],[0.7777777777777778,\"#fb9f3a\"],[0.8888888888888888,\"#fdca26\"],[1.0,\"#f0f921\"]]}],\"heatmap\":[{\"type\":\"heatmap\",\"colorbar\":{\"outlinewidth\":0,\"ticks\":\"\"},\"colorscale\":[[0.0,\"#0d0887\"],[0.1111111111111111,\"#46039f\"],[0.2222222222222222,\"#7201a8\"],[0.3333333333333333,\"#9c179e\"],[0.4444444444444444,\"#bd3786\"],[0.5555555555555556,\"#d8576b\"],[0.6666666666666666,\"#ed7953\"],[0.7777777777777778,\"#fb9f3a\"],[0.8888888888888888,\"#fdca26\"],[1.0,\"#f0f921\"]]}],\"heatmapgl\":[{\"type\":\"heatmapgl\",\"colorbar\":{\"outlinewidth\":0,\"ticks\":\"\"},\"colorscale\":[[0.0,\"#0d0887\"],[0.1111111111111111,\"#46039f\"],[0.2222222222222222,\"#7201a8\"],[0.3333333333333333,\"#9c179e\"],[0.4444444444444444,\"#bd3786\"],[0.5555555555555556,\"#d8576b\"],[0.6666666666666666,\"#ed7953\"],[0.7777777777777778,\"#fb9f3a\"],[0.8888888888888888,\"#fdca26\"],[1.0,\"#f0f921\"]]}],\"contourcarpet\":[{\"type\":\"contourcarpet\",\"colorbar\":{\"outlinewidth\":0,\"ticks\":\"\"}}],\"contour\":[{\"type\":\"contour\",\"colorbar\":{\"outlinewidth\":0,\"ticks\":\"\"},\"colorscale\":[[0.0,\"#0d0887\"],[0.1111111111111111,\"#46039f\"],[0.2222222222222222,\"#7201a8\"],[0.3333333333333333,\"#9c179e\"],[0.4444444444444444,\"#bd3786\"],[0.5555555555555556,\"#d8576b\"],[0.6666666666666666,\"#ed7953\"],[0.7777777777777778,\"#fb9f3a\"],[0.8888888888888888,\"#fdca26\"],[1.0,\"#f0f921\"]]}],\"surface\":[{\"type\":\"surface\",\"colorbar\":{\"outlinewidth\":0,\"ticks\":\"\"},\"colorscale\":[[0.0,\"#0d0887\"],[0.1111111111111111,\"#46039f\"],[0.2222222222222222,\"#7201a8\"],[0.3333333333333333,\"#9c179e\"],[0.4444444444444444,\"#bd3786\"],[0.5555555555555556,\"#d8576b\"],[0.6666666666666666,\"#ed7953\"],[0.7777777777777778,\"#fb9f3a\"],[0.8888888888888888,\"#fdca26\"],[1.0,\"#f0f921\"]]}],\"mesh3d\":[{\"type\":\"mesh3d\",\"colorbar\":{\"outlinewidth\":0,\"ticks\":\"\"}}],\"scatter\":[{\"fillpattern\":{\"fillmode\":\"overlay\",\"size\":10,\"solidity\":0.2},\"type\":\"scatter\"}],\"parcoords\":[{\"type\":\"parcoords\",\"line\":{\"colorbar\":{\"outlinewidth\":0,\"ticks\":\"\"}}}],\"scatterpolargl\":[{\"type\":\"scatterpolargl\",\"marker\":{\"colorbar\":{\"outlinewidth\":0,\"ticks\":\"\"}}}],\"bar\":[{\"error_x\":{\"color\":\"#2a3f5f\"},\"error_y\":{\"color\":\"#2a3f5f\"},\"marker\":{\"line\":{\"color\":\"#E5ECF6\",\"width\":0.5},\"pattern\":{\"fillmode\":\"overlay\",\"size\":10,\"solidity\":0.2}},\"type\":\"bar\"}],\"scattergeo\":[{\"type\":\"scattergeo\",\"marker\":{\"colorbar\":{\"outlinewidth\":0,\"ticks\":\"\"}}}],\"scatterpolar\":[{\"type\":\"scatterpolar\",\"marker\":{\"colorbar\":{\"outlinewidth\":0,\"ticks\":\"\"}}}],\"histogram\":[{\"marker\":{\"pattern\":{\"fillmode\":\"overlay\",\"size\":10,\"solidity\":0.2}},\"type\":\"histogram\"}],\"scattergl\":[{\"type\":\"scattergl\",\"marker\":{\"colorbar\":{\"outlinewidth\":0,\"ticks\":\"\"}}}],\"scatter3d\":[{\"type\":\"scatter3d\",\"line\":{\"colorbar\":{\"outlinewidth\":0,\"ticks\":\"\"}},\"marker\":{\"colorbar\":{\"outlinewidth\":0,\"ticks\":\"\"}}}],\"scattermapbox\":[{\"type\":\"scattermapbox\",\"marker\":{\"colorbar\":{\"outlinewidth\":0,\"ticks\":\"\"}}}],\"scatterternary\":[{\"type\":\"scatterternary\",\"marker\":{\"colorbar\":{\"outlinewidth\":0,\"ticks\":\"\"}}}],\"scattercarpet\":[{\"type\":\"scattercarpet\",\"marker\":{\"colorbar\":{\"outlinewidth\":0,\"ticks\":\"\"}}}],\"carpet\":[{\"aaxis\":{\"endlinecolor\":\"#2a3f5f\",\"gridcolor\":\"white\",\"linecolor\":\"white\",\"minorgridcolor\":\"white\",\"startlinecolor\":\"#2a3f5f\"},\"baxis\":{\"endlinecolor\":\"#2a3f5f\",\"gridcolor\":\"white\",\"linecolor\":\"white\",\"minorgridcolor\":\"white\",\"startlinecolor\":\"#2a3f5f\"},\"type\":\"carpet\"}],\"table\":[{\"cells\":{\"fill\":{\"color\":\"#EBF0F8\"},\"line\":{\"color\":\"white\"}},\"header\":{\"fill\":{\"color\":\"#C8D4E3\"},\"line\":{\"color\":\"white\"}},\"type\":\"table\"}],\"barpolar\":[{\"marker\":{\"line\":{\"color\":\"#E5ECF6\",\"width\":0.5},\"pattern\":{\"fillmode\":\"overlay\",\"size\":10,\"solidity\":0.2}},\"type\":\"barpolar\"}],\"pie\":[{\"automargin\":true,\"type\":\"pie\"}]},\"layout\":{\"autotypenumbers\":\"strict\",\"colorway\":[\"#636efa\",\"#EF553B\",\"#00cc96\",\"#ab63fa\",\"#FFA15A\",\"#19d3f3\",\"#FF6692\",\"#B6E880\",\"#FF97FF\",\"#FECB52\"],\"font\":{\"color\":\"#2a3f5f\"},\"hovermode\":\"closest\",\"hoverlabel\":{\"align\":\"left\"},\"paper_bgcolor\":\"white\",\"plot_bgcolor\":\"#E5ECF6\",\"polar\":{\"bgcolor\":\"#E5ECF6\",\"angularaxis\":{\"gridcolor\":\"white\",\"linecolor\":\"white\",\"ticks\":\"\"},\"radialaxis\":{\"gridcolor\":\"white\",\"linecolor\":\"white\",\"ticks\":\"\"}},\"ternary\":{\"bgcolor\":\"#E5ECF6\",\"aaxis\":{\"gridcolor\":\"white\",\"linecolor\":\"white\",\"ticks\":\"\"},\"baxis\":{\"gridcolor\":\"white\",\"linecolor\":\"white\",\"ticks\":\"\"},\"caxis\":{\"gridcolor\":\"white\",\"linecolor\":\"white\",\"ticks\":\"\"}},\"coloraxis\":{\"colorbar\":{\"outlinewidth\":0,\"ticks\":\"\"}},\"colorscale\":{\"sequential\":[[0.0,\"#0d0887\"],[0.1111111111111111,\"#46039f\"],[0.2222222222222222,\"#7201a8\"],[0.3333333333333333,\"#9c179e\"],[0.4444444444444444,\"#bd3786\"],[0.5555555555555556,\"#d8576b\"],[0.6666666666666666,\"#ed7953\"],[0.7777777777777778,\"#fb9f3a\"],[0.8888888888888888,\"#fdca26\"],[1.0,\"#f0f921\"]],\"sequentialminus\":[[0.0,\"#0d0887\"],[0.1111111111111111,\"#46039f\"],[0.2222222222222222,\"#7201a8\"],[0.3333333333333333,\"#9c179e\"],[0.4444444444444444,\"#bd3786\"],[0.5555555555555556,\"#d8576b\"],[0.6666666666666666,\"#ed7953\"],[0.7777777777777778,\"#fb9f3a\"],[0.8888888888888888,\"#fdca26\"],[1.0,\"#f0f921\"]],\"diverging\":[[0,\"#8e0152\"],[0.1,\"#c51b7d\"],[0.2,\"#de77ae\"],[0.3,\"#f1b6da\"],[0.4,\"#fde0ef\"],[0.5,\"#f7f7f7\"],[0.6,\"#e6f5d0\"],[0.7,\"#b8e186\"],[0.8,\"#7fbc41\"],[0.9,\"#4d9221\"],[1,\"#276419\"]]},\"xaxis\":{\"gridcolor\":\"white\",\"linecolor\":\"white\",\"ticks\":\"\",\"title\":{\"standoff\":15},\"zerolinecolor\":\"white\",\"automargin\":true,\"zerolinewidth\":2},\"yaxis\":{\"gridcolor\":\"white\",\"linecolor\":\"white\",\"ticks\":\"\",\"title\":{\"standoff\":15},\"zerolinecolor\":\"white\",\"automargin\":true,\"zerolinewidth\":2},\"scene\":{\"xaxis\":{\"backgroundcolor\":\"#E5ECF6\",\"gridcolor\":\"white\",\"linecolor\":\"white\",\"showbackground\":true,\"ticks\":\"\",\"zerolinecolor\":\"white\",\"gridwidth\":2},\"yaxis\":{\"backgroundcolor\":\"#E5ECF6\",\"gridcolor\":\"white\",\"linecolor\":\"white\",\"showbackground\":true,\"ticks\":\"\",\"zerolinecolor\":\"white\",\"gridwidth\":2},\"zaxis\":{\"backgroundcolor\":\"#E5ECF6\",\"gridcolor\":\"white\",\"linecolor\":\"white\",\"showbackground\":true,\"ticks\":\"\",\"zerolinecolor\":\"white\",\"gridwidth\":2}},\"shapedefaults\":{\"line\":{\"color\":\"#2a3f5f\"}},\"annotationdefaults\":{\"arrowcolor\":\"#2a3f5f\",\"arrowhead\":0,\"arrowwidth\":1},\"geo\":{\"bgcolor\":\"white\",\"landcolor\":\"#E5ECF6\",\"subunitcolor\":\"white\",\"showland\":true,\"showlakes\":true,\"lakecolor\":\"white\"},\"title\":{\"x\":0.05},\"mapbox\":{\"style\":\"light\"}}},\"xaxis\":{\"anchor\":\"y\",\"domain\":[0.0,1.0],\"title\":{\"text\":\"x\"}},\"yaxis\":{\"anchor\":\"x\",\"domain\":[0.0,1.0],\"title\":{\"text\":\"value\"}},\"legend\":{\"title\":{\"text\":\"variable\"},\"tracegroupgap\":0},\"margin\":{\"t\":60}},                        {\"responsive\": true}                    ).then(function(){\n",
              "                            \n",
              "var gd = document.getElementById('98c78236-4285-4e1c-801a-561d6cf2ab27');\n",
              "var x = new MutationObserver(function (mutations, observer) {{\n",
              "        var display = window.getComputedStyle(gd).display;\n",
              "        if (!display || display === 'none') {{\n",
              "            console.log([gd, 'removed!']);\n",
              "            Plotly.purge(gd);\n",
              "            observer.disconnect();\n",
              "        }}\n",
              "}});\n",
              "\n",
              "// Listen for the removal of the full notebook cells\n",
              "var notebookContainer = gd.closest('#notebook-container');\n",
              "if (notebookContainer) {{\n",
              "    x.observe(notebookContainer, {childList: true});\n",
              "}}\n",
              "\n",
              "// Listen for the clearing of the current output cell\n",
              "var outputEl = gd.closest('.output');\n",
              "if (outputEl) {{\n",
              "    x.observe(outputEl, {childList: true});\n",
              "}}\n",
              "\n",
              "                        })                };                            </script>        </div>\n",
              "</body>\n",
              "</html>"
            ]
          },
          "metadata": {}
        }
      ]
    },
    {
      "cell_type": "code",
      "source": [
        "# stationarity tets\n",
        "data1.dropna(inplace=True)\n",
        "for (columnName, columnData) in data1.iteritems():\n",
        "  ad_fuller_tetst=adfuller(columnData)\n",
        "  print(f'{columnName} P-value: {ad_fuller_tetst[1]}' )"
      ],
      "metadata": {
        "colab": {
          "base_uri": "https://localhost:8080/"
        },
        "id": "MLXnFHqjdZ6S",
        "outputId": "65bc219b-46f6-4a07-8fe9-0b5f44b5eea0"
      },
      "execution_count": null,
      "outputs": [
        {
          "output_type": "stream",
          "name": "stdout",
          "text": [
            "realgdp P-value: 3.327882187668224e-08\n",
            "cpi P-value: 0.05891880557886097\n"
          ]
        }
      ]
    },
    {
      "cell_type": "code",
      "source": [
        "\n",
        "train_df=data1.iloc[:-10,:]\n",
        "test_df=data1.iloc[-10:,:]\n",
        "train_df"
      ],
      "metadata": {
        "colab": {
          "base_uri": "https://localhost:8080/",
          "height": 455
        },
        "id": "uA3qR8WwWGcz",
        "outputId": "6369f7eb-8d57-4154-8e65-16870c372a42"
      },
      "execution_count": null,
      "outputs": [
        {
          "output_type": "execute_result",
          "data": {
            "text/plain": [
              "        realgdp    cpi\n",
              "year                  \n",
              "1959.0   68.452  0.170\n",
              "1959.0   -3.313  0.200\n",
              "1959.0    9.716  0.020\n",
              "1960.0   62.495  0.170\n",
              "1960.0  -13.309  0.010\n",
              "...         ...    ...\n",
              "2006.0  167.239  1.300\n",
              "2006.0   46.524  2.000\n",
              "2006.0    3.454 -0.800\n",
              "2006.0   94.763  1.674\n",
              "2007.0   39.222  2.346\n",
              "\n",
              "[192 rows x 2 columns]"
            ],
            "text/html": [
              "\n",
              "  <div id=\"df-9c9337a8-efde-49e5-ac6f-c3126d974053\">\n",
              "    <div class=\"colab-df-container\">\n",
              "      <div>\n",
              "<style scoped>\n",
              "    .dataframe tbody tr th:only-of-type {\n",
              "        vertical-align: middle;\n",
              "    }\n",
              "\n",
              "    .dataframe tbody tr th {\n",
              "        vertical-align: top;\n",
              "    }\n",
              "\n",
              "    .dataframe thead th {\n",
              "        text-align: right;\n",
              "    }\n",
              "</style>\n",
              "<table border=\"1\" class=\"dataframe\">\n",
              "  <thead>\n",
              "    <tr style=\"text-align: right;\">\n",
              "      <th></th>\n",
              "      <th>realgdp</th>\n",
              "      <th>cpi</th>\n",
              "    </tr>\n",
              "    <tr>\n",
              "      <th>year</th>\n",
              "      <th></th>\n",
              "      <th></th>\n",
              "    </tr>\n",
              "  </thead>\n",
              "  <tbody>\n",
              "    <tr>\n",
              "      <th>1959.0</th>\n",
              "      <td>68.452</td>\n",
              "      <td>0.170</td>\n",
              "    </tr>\n",
              "    <tr>\n",
              "      <th>1959.0</th>\n",
              "      <td>-3.313</td>\n",
              "      <td>0.200</td>\n",
              "    </tr>\n",
              "    <tr>\n",
              "      <th>1959.0</th>\n",
              "      <td>9.716</td>\n",
              "      <td>0.020</td>\n",
              "    </tr>\n",
              "    <tr>\n",
              "      <th>1960.0</th>\n",
              "      <td>62.495</td>\n",
              "      <td>0.170</td>\n",
              "    </tr>\n",
              "    <tr>\n",
              "      <th>1960.0</th>\n",
              "      <td>-13.309</td>\n",
              "      <td>0.010</td>\n",
              "    </tr>\n",
              "    <tr>\n",
              "      <th>...</th>\n",
              "      <td>...</td>\n",
              "      <td>...</td>\n",
              "    </tr>\n",
              "    <tr>\n",
              "      <th>2006.0</th>\n",
              "      <td>167.239</td>\n",
              "      <td>1.300</td>\n",
              "    </tr>\n",
              "    <tr>\n",
              "      <th>2006.0</th>\n",
              "      <td>46.524</td>\n",
              "      <td>2.000</td>\n",
              "    </tr>\n",
              "    <tr>\n",
              "      <th>2006.0</th>\n",
              "      <td>3.454</td>\n",
              "      <td>-0.800</td>\n",
              "    </tr>\n",
              "    <tr>\n",
              "      <th>2006.0</th>\n",
              "      <td>94.763</td>\n",
              "      <td>1.674</td>\n",
              "    </tr>\n",
              "    <tr>\n",
              "      <th>2007.0</th>\n",
              "      <td>39.222</td>\n",
              "      <td>2.346</td>\n",
              "    </tr>\n",
              "  </tbody>\n",
              "</table>\n",
              "<p>192 rows × 2 columns</p>\n",
              "</div>\n",
              "      <button class=\"colab-df-convert\" onclick=\"convertToInteractive('df-9c9337a8-efde-49e5-ac6f-c3126d974053')\"\n",
              "              title=\"Convert this dataframe to an interactive table.\"\n",
              "              style=\"display:none;\">\n",
              "        \n",
              "  <svg xmlns=\"http://www.w3.org/2000/svg\" height=\"24px\"viewBox=\"0 0 24 24\"\n",
              "       width=\"24px\">\n",
              "    <path d=\"M0 0h24v24H0V0z\" fill=\"none\"/>\n",
              "    <path d=\"M18.56 5.44l.94 2.06.94-2.06 2.06-.94-2.06-.94-.94-2.06-.94 2.06-2.06.94zm-11 1L8.5 8.5l.94-2.06 2.06-.94-2.06-.94L8.5 2.5l-.94 2.06-2.06.94zm10 10l.94 2.06.94-2.06 2.06-.94-2.06-.94-.94-2.06-.94 2.06-2.06.94z\"/><path d=\"M17.41 7.96l-1.37-1.37c-.4-.4-.92-.59-1.43-.59-.52 0-1.04.2-1.43.59L10.3 9.45l-7.72 7.72c-.78.78-.78 2.05 0 2.83L4 21.41c.39.39.9.59 1.41.59.51 0 1.02-.2 1.41-.59l7.78-7.78 2.81-2.81c.8-.78.8-2.07 0-2.86zM5.41 20L4 18.59l7.72-7.72 1.47 1.35L5.41 20z\"/>\n",
              "  </svg>\n",
              "      </button>\n",
              "      \n",
              "  <style>\n",
              "    .colab-df-container {\n",
              "      display:flex;\n",
              "      flex-wrap:wrap;\n",
              "      gap: 12px;\n",
              "    }\n",
              "\n",
              "    .colab-df-convert {\n",
              "      background-color: #E8F0FE;\n",
              "      border: none;\n",
              "      border-radius: 50%;\n",
              "      cursor: pointer;\n",
              "      display: none;\n",
              "      fill: #1967D2;\n",
              "      height: 32px;\n",
              "      padding: 0 0 0 0;\n",
              "      width: 32px;\n",
              "    }\n",
              "\n",
              "    .colab-df-convert:hover {\n",
              "      background-color: #E2EBFA;\n",
              "      box-shadow: 0px 1px 2px rgba(60, 64, 67, 0.3), 0px 1px 3px 1px rgba(60, 64, 67, 0.15);\n",
              "      fill: #174EA6;\n",
              "    }\n",
              "\n",
              "    [theme=dark] .colab-df-convert {\n",
              "      background-color: #3B4455;\n",
              "      fill: #D2E3FC;\n",
              "    }\n",
              "\n",
              "    [theme=dark] .colab-df-convert:hover {\n",
              "      background-color: #434B5C;\n",
              "      box-shadow: 0px 1px 3px 1px rgba(0, 0, 0, 0.15);\n",
              "      filter: drop-shadow(0px 1px 2px rgba(0, 0, 0, 0.3));\n",
              "      fill: #FFFFFF;\n",
              "    }\n",
              "  </style>\n",
              "\n",
              "      <script>\n",
              "        const buttonEl =\n",
              "          document.querySelector('#df-9c9337a8-efde-49e5-ac6f-c3126d974053 button.colab-df-convert');\n",
              "        buttonEl.style.display =\n",
              "          google.colab.kernel.accessAllowed ? 'block' : 'none';\n",
              "\n",
              "        async function convertToInteractive(key) {\n",
              "          const element = document.querySelector('#df-9c9337a8-efde-49e5-ac6f-c3126d974053');\n",
              "          const dataTable =\n",
              "            await google.colab.kernel.invokeFunction('convertToInteractive',\n",
              "                                                     [key], {});\n",
              "          if (!dataTable) return;\n",
              "\n",
              "          const docLinkHtml = 'Like what you see? Visit the ' +\n",
              "            '<a target=\"_blank\" href=https://colab.research.google.com/notebooks/data_table.ipynb>data table notebook</a>'\n",
              "            + ' to learn more about interactive tables.';\n",
              "          element.innerHTML = '';\n",
              "          dataTable['output_type'] = 'display_data';\n",
              "          await google.colab.output.renderOutput(dataTable, element);\n",
              "          const docLink = document.createElement('div');\n",
              "          docLink.innerHTML = docLinkHtml;\n",
              "          element.appendChild(docLink);\n",
              "        }\n",
              "      </script>\n",
              "    </div>\n",
              "  </div>\n",
              "  "
            ]
          },
          "metadata": {},
          "execution_count": 93
        }
      ]
    },
    {
      "cell_type": "code",
      "source": [
        "## training the model\n",
        "model=VAR(train_df[1:])\n",
        "sorted_order=model.select_order(maxlags=20)\n",
        "print(sorted_order.summary())\n"
      ],
      "metadata": {
        "colab": {
          "base_uri": "https://localhost:8080/"
        },
        "id": "K84I-m6ehTQs",
        "outputId": "45b5a5eb-1d2f-4ac2-8d19-afec75f7ef20"
      },
      "execution_count": null,
      "outputs": [
        {
          "output_type": "stream",
          "name": "stdout",
          "text": [
            " VAR Order Selection (* highlights the minimums)  \n",
            "==================================================\n",
            "       AIC         BIC         FPE         HQIC   \n",
            "--------------------------------------------------\n",
            "0        7.328       7.364       1522.       7.343\n",
            "1        7.065       7.175       1170.       7.109\n",
            "2        6.904       7.087       996.5       6.978\n",
            "3       6.754*      7.010*      857.7*      6.858*\n",
            "4        6.784       7.113       883.6       6.917\n",
            "5        6.818       7.221       914.8       6.982\n",
            "6        6.844       7.320       938.9       7.037\n",
            "7        6.877       7.426       970.3       7.099\n",
            "8        6.877       7.500       971.3       7.130\n",
            "9        6.874       7.569       968.5       7.156\n",
            "10       6.894       7.662       988.5       7.206\n",
            "11       6.920       7.761       1015.       7.261\n",
            "12       6.880       7.795       977.0       7.252\n",
            "13       6.917       7.905       1014.       7.317\n",
            "14       6.909       7.970       1008.       7.340\n",
            "15       6.848       7.982       949.4       7.308\n",
            "16       6.870       8.078       972.0       7.360\n",
            "17       6.903       8.184       1007.       7.423\n",
            "18       6.888       8.242       993.6       7.437\n",
            "19       6.906       8.333       1014.       7.485\n",
            "20       6.927       8.428       1039.       7.536\n",
            "--------------------------------------------------\n"
          ]
        }
      ]
    },
    {
      "cell_type": "code",
      "source": [
        "## fit model\n",
        "var_model=VARMAX(train_df, order=(3, 0), enforce_stationarity=True)\n",
        "fitted_model=var_model.fit()\n",
        "print(fitted_model.summary())\n"
      ],
      "metadata": {
        "colab": {
          "base_uri": "https://localhost:8080/"
        },
        "id": "wo031cYBhnzk",
        "outputId": "46d45ccb-e4e2-4e74-dcf7-d6414c4f81c2"
      },
      "execution_count": null,
      "outputs": [
        {
          "output_type": "stream",
          "name": "stdout",
          "text": [
            "                           Statespace Model Results                           \n",
            "==============================================================================\n",
            "Dep. Variable:     ['realgdp', 'cpi']   No. Observations:                  192\n",
            "Model:                         VAR(3)   Log Likelihood               -1164.346\n",
            "                          + intercept   AIC                           2362.692\n",
            "Date:                Tue, 11 Apr 2023   BIC                           2418.070\n",
            "Time:                        04:40:59   HQIC                          2385.121\n",
            "Sample:                             0                                         \n",
            "                                - 192                                         \n",
            "Covariance Type:                  opg                                         \n",
            "===================================================================================\n",
            "Ljung-Box (L1) (Q):             0.00, 0.06   Jarque-Bera (JB):        14.58, 637.53\n",
            "Prob(Q):                        0.95, 0.81   Prob(JB):                   0.00, 0.00\n",
            "Heteroskedasticity (H):         1.63, 7.97   Skew:                       0.33, 0.82\n",
            "Prob(H) (two-sided):            0.05, 0.00   Kurtosis:                  4.17, 11.78\n",
            "                         Results for equation realgdp                         \n",
            "==============================================================================\n",
            "                 coef    std err          z      P>|z|      [0.025      0.975]\n",
            "------------------------------------------------------------------------------\n",
            "intercept     34.5014      9.436      3.656      0.000      16.006      52.997\n",
            "L1.realgdp     0.2508      0.070      3.581      0.000       0.114       0.388\n",
            "L1.cpi       -11.6861      6.357     -1.838      0.066     -24.146       0.774\n",
            "L2.realgdp     0.2566      0.065      3.961      0.000       0.130       0.384\n",
            "L2.cpi        -2.2166      5.520     -0.402      0.688     -13.035       8.602\n",
            "L3.realgdp    -0.0004      0.070     -0.005      0.996      -0.137       0.136\n",
            "L3.cpi         4.8997      6.554      0.748      0.455      -7.945      17.745\n",
            "                           Results for equation cpi                           \n",
            "==============================================================================\n",
            "                 coef    std err          z      P>|z|      [0.025      0.975]\n",
            "------------------------------------------------------------------------------\n",
            "intercept      0.0508      0.117      0.436      0.663      -0.178       0.279\n",
            "L1.realgdp     0.0015      0.001      1.523      0.128      -0.000       0.004\n",
            "L1.cpi         0.0959      0.057      1.686      0.092      -0.016       0.207\n",
            "L2.realgdp -5.532e-06      0.001     -0.007      0.994      -0.002       0.002\n",
            "L2.cpi         0.2608      0.062      4.237      0.000       0.140       0.382\n",
            "L3.realgdp     0.0008      0.001      0.964      0.335      -0.001       0.003\n",
            "L3.cpi         0.4490      0.058      7.698      0.000       0.335       0.563\n",
            "                                Error covariance matrix                                 \n",
            "========================================================================================\n",
            "                           coef    std err          z      P>|z|      [0.025      0.975]\n",
            "----------------------------------------------------------------------------------------\n",
            "sqrt.var.realgdp        48.8438      2.180     22.402      0.000      44.570      53.117\n",
            "sqrt.cov.realgdp.cpi     0.0789      0.043      1.824      0.068      -0.006       0.164\n",
            "sqrt.var.cpi             0.5137      0.015     34.298      0.000       0.484       0.543\n",
            "========================================================================================\n",
            "\n",
            "Warnings:\n",
            "[1] Covariance matrix calculated using the outer product of gradients (complex-step).\n"
          ]
        }
      ]
    },
    {
      "cell_type": "code",
      "source": [
        "## forecasting\n",
        "n_forecast=9\n",
        "predict=fitted_model.get_prediction(start=len(train_df), end=len(train_df)+n_forecast)"
      ],
      "metadata": {
        "id": "1HFm7NZNhxY0"
      },
      "execution_count": null,
      "outputs": []
    },
    {
      "cell_type": "code",
      "source": [
        "predictions=predict.predicted_mean\n",
        "predictions.columns=['realgdp_pred','cpi_pred']\n",
        "print(predictions)\n",
        "test_df"
      ],
      "metadata": {
        "colab": {
          "base_uri": "https://localhost:8080/",
          "height": 585
        },
        "id": "rD5_Dg79l8m1",
        "outputId": "15f19298-8bf8-4259-e98b-a97c41d6b707"
      },
      "execution_count": null,
      "outputs": [
        {
          "output_type": "stream",
          "name": "stdout",
          "text": [
            "     realgdp_pred  cpi_pred\n",
            "192     33.612197  0.416358\n",
            "193     51.100848  1.585249\n",
            "194     47.977846  1.476511\n",
            "195     40.909790  0.894945\n",
            "196     51.093651  1.339312\n",
            "197     47.398695  1.194611\n",
            "198     46.944448  1.023840\n",
            "199     50.372267  1.177057\n",
            "200     48.995847  1.084463\n",
            "201     49.436175  1.036341\n"
          ]
        },
        {
          "output_type": "execute_result",
          "data": {
            "text/plain": [
              "        realgdp    cpi\n",
              "year                  \n",
              "2007.0  104.076  1.418\n",
              "2007.0  117.132  1.795\n",
              "2007.0   70.140  3.362\n",
              "2008.0  -24.384  1.502\n",
              "2008.0   48.401  4.613\n",
              "2008.0  -90.666 -1.721\n",
              "2008.0 -182.680 -4.715\n",
              "2009.0 -216.510  0.497\n",
              "2009.0  -23.906  1.798\n",
              "2009.0   88.837  1.916"
            ],
            "text/html": [
              "\n",
              "  <div id=\"df-ade49bf7-d2d4-4720-a1e4-7c56f7a9542d\">\n",
              "    <div class=\"colab-df-container\">\n",
              "      <div>\n",
              "<style scoped>\n",
              "    .dataframe tbody tr th:only-of-type {\n",
              "        vertical-align: middle;\n",
              "    }\n",
              "\n",
              "    .dataframe tbody tr th {\n",
              "        vertical-align: top;\n",
              "    }\n",
              "\n",
              "    .dataframe thead th {\n",
              "        text-align: right;\n",
              "    }\n",
              "</style>\n",
              "<table border=\"1\" class=\"dataframe\">\n",
              "  <thead>\n",
              "    <tr style=\"text-align: right;\">\n",
              "      <th></th>\n",
              "      <th>realgdp</th>\n",
              "      <th>cpi</th>\n",
              "    </tr>\n",
              "    <tr>\n",
              "      <th>year</th>\n",
              "      <th></th>\n",
              "      <th></th>\n",
              "    </tr>\n",
              "  </thead>\n",
              "  <tbody>\n",
              "    <tr>\n",
              "      <th>2007.0</th>\n",
              "      <td>104.076</td>\n",
              "      <td>1.418</td>\n",
              "    </tr>\n",
              "    <tr>\n",
              "      <th>2007.0</th>\n",
              "      <td>117.132</td>\n",
              "      <td>1.795</td>\n",
              "    </tr>\n",
              "    <tr>\n",
              "      <th>2007.0</th>\n",
              "      <td>70.140</td>\n",
              "      <td>3.362</td>\n",
              "    </tr>\n",
              "    <tr>\n",
              "      <th>2008.0</th>\n",
              "      <td>-24.384</td>\n",
              "      <td>1.502</td>\n",
              "    </tr>\n",
              "    <tr>\n",
              "      <th>2008.0</th>\n",
              "      <td>48.401</td>\n",
              "      <td>4.613</td>\n",
              "    </tr>\n",
              "    <tr>\n",
              "      <th>2008.0</th>\n",
              "      <td>-90.666</td>\n",
              "      <td>-1.721</td>\n",
              "    </tr>\n",
              "    <tr>\n",
              "      <th>2008.0</th>\n",
              "      <td>-182.680</td>\n",
              "      <td>-4.715</td>\n",
              "    </tr>\n",
              "    <tr>\n",
              "      <th>2009.0</th>\n",
              "      <td>-216.510</td>\n",
              "      <td>0.497</td>\n",
              "    </tr>\n",
              "    <tr>\n",
              "      <th>2009.0</th>\n",
              "      <td>-23.906</td>\n",
              "      <td>1.798</td>\n",
              "    </tr>\n",
              "    <tr>\n",
              "      <th>2009.0</th>\n",
              "      <td>88.837</td>\n",
              "      <td>1.916</td>\n",
              "    </tr>\n",
              "  </tbody>\n",
              "</table>\n",
              "</div>\n",
              "      <button class=\"colab-df-convert\" onclick=\"convertToInteractive('df-ade49bf7-d2d4-4720-a1e4-7c56f7a9542d')\"\n",
              "              title=\"Convert this dataframe to an interactive table.\"\n",
              "              style=\"display:none;\">\n",
              "        \n",
              "  <svg xmlns=\"http://www.w3.org/2000/svg\" height=\"24px\"viewBox=\"0 0 24 24\"\n",
              "       width=\"24px\">\n",
              "    <path d=\"M0 0h24v24H0V0z\" fill=\"none\"/>\n",
              "    <path d=\"M18.56 5.44l.94 2.06.94-2.06 2.06-.94-2.06-.94-.94-2.06-.94 2.06-2.06.94zm-11 1L8.5 8.5l.94-2.06 2.06-.94-2.06-.94L8.5 2.5l-.94 2.06-2.06.94zm10 10l.94 2.06.94-2.06 2.06-.94-2.06-.94-.94-2.06-.94 2.06-2.06.94z\"/><path d=\"M17.41 7.96l-1.37-1.37c-.4-.4-.92-.59-1.43-.59-.52 0-1.04.2-1.43.59L10.3 9.45l-7.72 7.72c-.78.78-.78 2.05 0 2.83L4 21.41c.39.39.9.59 1.41.59.51 0 1.02-.2 1.41-.59l7.78-7.78 2.81-2.81c.8-.78.8-2.07 0-2.86zM5.41 20L4 18.59l7.72-7.72 1.47 1.35L5.41 20z\"/>\n",
              "  </svg>\n",
              "      </button>\n",
              "      \n",
              "  <style>\n",
              "    .colab-df-container {\n",
              "      display:flex;\n",
              "      flex-wrap:wrap;\n",
              "      gap: 12px;\n",
              "    }\n",
              "\n",
              "    .colab-df-convert {\n",
              "      background-color: #E8F0FE;\n",
              "      border: none;\n",
              "      border-radius: 50%;\n",
              "      cursor: pointer;\n",
              "      display: none;\n",
              "      fill: #1967D2;\n",
              "      height: 32px;\n",
              "      padding: 0 0 0 0;\n",
              "      width: 32px;\n",
              "    }\n",
              "\n",
              "    .colab-df-convert:hover {\n",
              "      background-color: #E2EBFA;\n",
              "      box-shadow: 0px 1px 2px rgba(60, 64, 67, 0.3), 0px 1px 3px 1px rgba(60, 64, 67, 0.15);\n",
              "      fill: #174EA6;\n",
              "    }\n",
              "\n",
              "    [theme=dark] .colab-df-convert {\n",
              "      background-color: #3B4455;\n",
              "      fill: #D2E3FC;\n",
              "    }\n",
              "\n",
              "    [theme=dark] .colab-df-convert:hover {\n",
              "      background-color: #434B5C;\n",
              "      box-shadow: 0px 1px 3px 1px rgba(0, 0, 0, 0.15);\n",
              "      filter: drop-shadow(0px 1px 2px rgba(0, 0, 0, 0.3));\n",
              "      fill: #FFFFFF;\n",
              "    }\n",
              "  </style>\n",
              "\n",
              "      <script>\n",
              "        const buttonEl =\n",
              "          document.querySelector('#df-ade49bf7-d2d4-4720-a1e4-7c56f7a9542d button.colab-df-convert');\n",
              "        buttonEl.style.display =\n",
              "          google.colab.kernel.accessAllowed ? 'block' : 'none';\n",
              "\n",
              "        async function convertToInteractive(key) {\n",
              "          const element = document.querySelector('#df-ade49bf7-d2d4-4720-a1e4-7c56f7a9542d');\n",
              "          const dataTable =\n",
              "            await google.colab.kernel.invokeFunction('convertToInteractive',\n",
              "                                                     [key], {});\n",
              "          if (!dataTable) return;\n",
              "\n",
              "          const docLinkHtml = 'Like what you see? Visit the ' +\n",
              "            '<a target=\"_blank\" href=https://colab.research.google.com/notebooks/data_table.ipynb>data table notebook</a>'\n",
              "            + ' to learn more about interactive tables.';\n",
              "          element.innerHTML = '';\n",
              "          dataTable['output_type'] = 'display_data';\n",
              "          await google.colab.output.renderOutput(dataTable, element);\n",
              "          const docLink = document.createElement('div');\n",
              "          docLink.innerHTML = docLinkHtml;\n",
              "          element.appendChild(docLink);\n",
              "        }\n",
              "      </script>\n",
              "    </div>\n",
              "  </div>\n",
              "  "
            ]
          },
          "metadata": {},
          "execution_count": 103
        }
      ]
    },
    {
      "cell_type": "code",
      "source": [
        "from sklearn.metrics import mean_squared_error\n",
        "import math\n",
        "cpi_pred =math.sqrt(mean_squared_error(predictions['cpi_pred'], test_df['cpi']))\n",
        "print(f'CPI_RMSE={cpi_pred}')\n",
        "realgdp_pred=math.sqrt(mean_squared_error(predictions['realgdp_pred'], test_df['realgdp']))\n",
        "print(f'REALGDP_RMSE={realgdp_pred}')"
      ],
      "metadata": {
        "colab": {
          "base_uri": "https://localhost:8080/"
        },
        "id": "pcNfz80josZ9",
        "outputId": "6155c888-d4cb-42ca-cee0-709a6c0cb93f"
      },
      "execution_count": null,
      "outputs": [
        {
          "output_type": "stream",
          "name": "stdout",
          "text": [
            "CPI_RMSE=2.426280742034231\n",
            "REALGDP_RMSE=128.0505551914587\n"
          ]
        }
      ]
    },
    {
      "cell_type": "code",
      "source": [
        "import numpy as np\n",
        "import pandas as pd\n",
        "import statsmodels.api as sm\n"
      ],
      "metadata": {
        "id": "MiolSEiYqfNW"
      },
      "execution_count": null,
      "outputs": []
    },
    {
      "cell_type": "code",
      "source": [
        "ts1 = np.array([3,4,5,5,7,9,13,15,12,10,8,8])\n",
        "ts2 = np.array([21,19,22,24,25,29,30,34,37,40,35,30])\n"
      ],
      "metadata": {
        "id": "5EzVkkdpbqOC"
      },
      "execution_count": null,
      "outputs": []
    },
    {
      "cell_type": "code",
      "source": [
        "ccv = np.cov(ts1,ts2)\n",
        "print(ccv)"
      ],
      "metadata": {
        "colab": {
          "base_uri": "https://localhost:8080/"
        },
        "id": "I2_cwLkGb_5R",
        "outputId": "8fba9eb6-290d-4dff-8935-0af366758dfc"
      },
      "execution_count": null,
      "outputs": [
        {
          "output_type": "stream",
          "name": "stdout",
          "text": [
            "[[14.02272727 19.5       ]\n",
            " [19.5        45.60606061]]\n"
          ]
        }
      ]
    },
    {
      "cell_type": "code",
      "source": [],
      "metadata": {
        "id": "tYCFi8d6cFU-"
      },
      "execution_count": null,
      "outputs": []
    }
  ]
}