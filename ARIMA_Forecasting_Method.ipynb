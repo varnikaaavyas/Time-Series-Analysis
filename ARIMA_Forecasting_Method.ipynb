{
  "nbformat": 4,
  "nbformat_minor": 0,
  "metadata": {
    "colab": {
      "provenance": [],
      "authorship_tag": "ABX9TyO2kbJpMmQY0m8/9waZIQm8",
      "include_colab_link": true
    },
    "kernelspec": {
      "name": "python3",
      "display_name": "Python 3"
    },
    "language_info": {
      "name": "python"
    }
  },
  "cells": [
    {
      "cell_type": "markdown",
      "metadata": {
        "id": "view-in-github",
        "colab_type": "text"
      },
      "source": [
        "<a href=\"https://colab.research.google.com/github/varnikaaavyas/Time-Series-Analysis/blob/main/ARIMA_Forecasting_Method.ipynb\" target=\"_parent\"><img src=\"https://colab.research.google.com/assets/colab-badge.svg\" alt=\"Open In Colab\"/></a>"
      ]
    },
    {
      "cell_type": "markdown",
      "source": [
        "**QUESTION 1.**"
      ],
      "metadata": {
        "id": "rtB2jDN4aLwz"
      }
    },
    {
      "cell_type": "code",
      "execution_count": null,
      "metadata": {
        "id": "vN-PoPXZP9xN"
      },
      "outputs": [],
      "source": [
        "import pandas as pd\n",
        "import matplotlib.pyplot as plt\n",
        "from statsmodels.tsa.stattools import adfuller\n",
        "from statsmodels.graphics.tsaplots import plot_acf, plot_pacf\n",
        "from statsmodels.tsa.arima.model import ARIMA\n",
        "from statsmodels.tsa.stattools import kpss"
      ]
    },
    {
      "cell_type": "code",
      "source": [
        "data = pd.read_csv(\"/content/daily-total-female-births.csv\", names=['values'],header=0)\n",
        "data.head()"
      ],
      "metadata": {
        "colab": {
          "base_uri": "https://localhost:8080/",
          "height": 206
        },
        "id": "ixHAuuBFSCk2",
        "outputId": "df4c57b1-befd-4c0f-f835-0a499df8c7d8"
      },
      "execution_count": null,
      "outputs": [
        {
          "output_type": "execute_result",
          "data": {
            "text/plain": [
              "            values\n",
              "1959-01-01      35\n",
              "1959-01-02      32\n",
              "1959-01-03      30\n",
              "1959-01-04      31\n",
              "1959-01-05      44"
            ],
            "text/html": [
              "\n",
              "  <div id=\"df-85833167-f3bc-4b29-ab0f-5c5597af3bc6\">\n",
              "    <div class=\"colab-df-container\">\n",
              "      <div>\n",
              "<style scoped>\n",
              "    .dataframe tbody tr th:only-of-type {\n",
              "        vertical-align: middle;\n",
              "    }\n",
              "\n",
              "    .dataframe tbody tr th {\n",
              "        vertical-align: top;\n",
              "    }\n",
              "\n",
              "    .dataframe thead th {\n",
              "        text-align: right;\n",
              "    }\n",
              "</style>\n",
              "<table border=\"1\" class=\"dataframe\">\n",
              "  <thead>\n",
              "    <tr style=\"text-align: right;\">\n",
              "      <th></th>\n",
              "      <th>values</th>\n",
              "    </tr>\n",
              "  </thead>\n",
              "  <tbody>\n",
              "    <tr>\n",
              "      <th>1959-01-01</th>\n",
              "      <td>35</td>\n",
              "    </tr>\n",
              "    <tr>\n",
              "      <th>1959-01-02</th>\n",
              "      <td>32</td>\n",
              "    </tr>\n",
              "    <tr>\n",
              "      <th>1959-01-03</th>\n",
              "      <td>30</td>\n",
              "    </tr>\n",
              "    <tr>\n",
              "      <th>1959-01-04</th>\n",
              "      <td>31</td>\n",
              "    </tr>\n",
              "    <tr>\n",
              "      <th>1959-01-05</th>\n",
              "      <td>44</td>\n",
              "    </tr>\n",
              "  </tbody>\n",
              "</table>\n",
              "</div>\n",
              "      <button class=\"colab-df-convert\" onclick=\"convertToInteractive('df-85833167-f3bc-4b29-ab0f-5c5597af3bc6')\"\n",
              "              title=\"Convert this dataframe to an interactive table.\"\n",
              "              style=\"display:none;\">\n",
              "        \n",
              "  <svg xmlns=\"http://www.w3.org/2000/svg\" height=\"24px\"viewBox=\"0 0 24 24\"\n",
              "       width=\"24px\">\n",
              "    <path d=\"M0 0h24v24H0V0z\" fill=\"none\"/>\n",
              "    <path d=\"M18.56 5.44l.94 2.06.94-2.06 2.06-.94-2.06-.94-.94-2.06-.94 2.06-2.06.94zm-11 1L8.5 8.5l.94-2.06 2.06-.94-2.06-.94L8.5 2.5l-.94 2.06-2.06.94zm10 10l.94 2.06.94-2.06 2.06-.94-2.06-.94-.94-2.06-.94 2.06-2.06.94z\"/><path d=\"M17.41 7.96l-1.37-1.37c-.4-.4-.92-.59-1.43-.59-.52 0-1.04.2-1.43.59L10.3 9.45l-7.72 7.72c-.78.78-.78 2.05 0 2.83L4 21.41c.39.39.9.59 1.41.59.51 0 1.02-.2 1.41-.59l7.78-7.78 2.81-2.81c.8-.78.8-2.07 0-2.86zM5.41 20L4 18.59l7.72-7.72 1.47 1.35L5.41 20z\"/>\n",
              "  </svg>\n",
              "      </button>\n",
              "      \n",
              "  <style>\n",
              "    .colab-df-container {\n",
              "      display:flex;\n",
              "      flex-wrap:wrap;\n",
              "      gap: 12px;\n",
              "    }\n",
              "\n",
              "    .colab-df-convert {\n",
              "      background-color: #E8F0FE;\n",
              "      border: none;\n",
              "      border-radius: 50%;\n",
              "      cursor: pointer;\n",
              "      display: none;\n",
              "      fill: #1967D2;\n",
              "      height: 32px;\n",
              "      padding: 0 0 0 0;\n",
              "      width: 32px;\n",
              "    }\n",
              "\n",
              "    .colab-df-convert:hover {\n",
              "      background-color: #E2EBFA;\n",
              "      box-shadow: 0px 1px 2px rgba(60, 64, 67, 0.3), 0px 1px 3px 1px rgba(60, 64, 67, 0.15);\n",
              "      fill: #174EA6;\n",
              "    }\n",
              "\n",
              "    [theme=dark] .colab-df-convert {\n",
              "      background-color: #3B4455;\n",
              "      fill: #D2E3FC;\n",
              "    }\n",
              "\n",
              "    [theme=dark] .colab-df-convert:hover {\n",
              "      background-color: #434B5C;\n",
              "      box-shadow: 0px 1px 3px 1px rgba(0, 0, 0, 0.15);\n",
              "      filter: drop-shadow(0px 1px 2px rgba(0, 0, 0, 0.3));\n",
              "      fill: #FFFFFF;\n",
              "    }\n",
              "  </style>\n",
              "\n",
              "      <script>\n",
              "        const buttonEl =\n",
              "          document.querySelector('#df-85833167-f3bc-4b29-ab0f-5c5597af3bc6 button.colab-df-convert');\n",
              "        buttonEl.style.display =\n",
              "          google.colab.kernel.accessAllowed ? 'block' : 'none';\n",
              "\n",
              "        async function convertToInteractive(key) {\n",
              "          const element = document.querySelector('#df-85833167-f3bc-4b29-ab0f-5c5597af3bc6');\n",
              "          const dataTable =\n",
              "            await google.colab.kernel.invokeFunction('convertToInteractive',\n",
              "                                                     [key], {});\n",
              "          if (!dataTable) return;\n",
              "\n",
              "          const docLinkHtml = 'Like what you see? Visit the ' +\n",
              "            '<a target=\"_blank\" href=https://colab.research.google.com/notebooks/data_table.ipynb>data table notebook</a>'\n",
              "            + ' to learn more about interactive tables.';\n",
              "          element.innerHTML = '';\n",
              "          dataTable['output_type'] = 'display_data';\n",
              "          await google.colab.output.renderOutput(dataTable, element);\n",
              "          const docLink = document.createElement('div');\n",
              "          docLink.innerHTML = docLinkHtml;\n",
              "          element.appendChild(docLink);\n",
              "        }\n",
              "      </script>\n",
              "    </div>\n",
              "  </div>\n",
              "  "
            ]
          },
          "metadata": {},
          "execution_count": 12
        }
      ]
    },
    {
      "cell_type": "code",
      "source": [
        "plt.figure(figsize=(12,4))\n",
        "plt.plot(data)\n",
        "plt.xlabel('Date')\n",
        "plt.ylabel('Births')\n",
        "plt.title('Daily-Total-Female-Births')\n",
        "plt.show()"
      ],
      "metadata": {
        "colab": {
          "base_uri": "https://localhost:8080/",
          "height": 295
        },
        "id": "tf382aZOTrGa",
        "outputId": "4a50a61c-90f1-4993-f2b7-e7c2048c8a16"
      },
      "execution_count": null,
      "outputs": [
        {
          "output_type": "display_data",
          "data": {
            "text/plain": [
              "<Figure size 864x288 with 1 Axes>"
            ],
            "image/png": "[encoded data removed]"
          },
          "metadata": {
            "needs_background": "light"
          }
        }
      ]
    },
    {
      "cell_type": "code",
      "source": [
        "def adk_kpss(series):\n",
        "\n",
        "  result = adfuller(series, autolag= 'AIC')\n",
        "  print(\"Result of ADF\")\n",
        "  print(f'ADF Statistics: {result[0]}')\n",
        "  print(f'n-lags: {result[1]}')\n",
        "  print(f'p_value:{result[1]}')\n",
        "  for key, value in result[4].items():\n",
        "    print('Critical Values:')\n",
        "    print(f'{key},{value}')\n",
        "\n",
        "  if(result[1]>0.05):\n",
        "    print(\"Non-Stationary\")\n",
        "  else:\n",
        "    print(\"Stationary\")\n",
        "\n"
      ],
      "metadata": {
        "id": "bcaJ_-3iTxQE"
      },
      "execution_count": null,
      "outputs": []
    },
    {
      "cell_type": "code",
      "source": [
        "result = adk_kpss(data)\n",
        "# since , data is stationary value of d is Zero"
      ],
      "metadata": {
        "colab": {
          "base_uri": "https://localhost:8080/"
        },
        "id": "SH-QCUb4VHCB",
        "outputId": "75e6dc01-3305-485b-8c16-5b7a288a5db4"
      },
      "execution_count": null,
      "outputs": [
        {
          "output_type": "stream",
          "name": "stdout",
          "text": [
            "Result of ADF\n",
            "ADF Statistics: -4.808291253559765\n",
            "n-lags: 5.2434129901498554e-05\n",
            "p_value:5.2434129901498554e-05\n",
            "Critical Values:\n",
            "1%,-3.448748905151901\n",
            "Critical Values:\n",
            "5%,-2.8696473721448728\n",
            "Critical Values:\n",
            "10%,-2.5710891239349585\n",
            "Stationary\n"
          ]
        }
      ]
    },
    {
      "cell_type": "code",
      "source": [
        "import warnings\n",
        "warnings.filterwarnings('ignore')\n",
        "fig, ax  = plt.subplots(2,1, figsize=(10,8))\n",
        "\n",
        "plot_acf(data, ax=ax[0])\n",
        "plot_pacf(data, ax = ax[1])\n",
        "plt.show()"
      ],
      "metadata": {
        "colab": {
          "base_uri": "https://localhost:8080/",
          "height": 499
        },
        "id": "WKlIB-UiVlOk",
        "outputId": "c2697a18-9b28-4f98-ad2b-c2e6c75311e9"
      },
      "execution_count": null,
      "outputs": [
        {
          "output_type": "display_data",
          "data": {
            "text/plain": [
              "<Figure size 720x576 with 2 Axes>"
            ],
            "image/png": "[encoded data removed]"
          },
          "metadata": {
            "needs_background": "light"
          }
        }
      ]
    },
    {
      "cell_type": "markdown",
      "source": [
        "**Since, data is stationary Value of d=0** \\\n",
        "**p = 1 from pacf_plot** \\\n",
        "**q = 2 from acf_plot**\n",
        "\n"
      ],
      "metadata": {
        "id": "ahCeLZ98Zu-W"
      }
    },
    {
      "cell_type": "markdown",
      "source": [
        "**QUESTION 2.**"
      ],
      "metadata": {
        "id": "YjFfUvTmaP4h"
      }
    },
    {
      "cell_type": "code",
      "source": [
        "\n",
        "import warnings\n",
        "warnings.filterwarnings('ignore')\n",
        "from statsmodels.tsa.arima.model import ARIMA\n",
        "\n",
        "# Build the model\n",
        "train = data.values[:70]\n",
        "test = data.values[70:]\n",
        "model = ARIMA(train, order=(1,0,2))\n",
        "fitted = model.fit()\n",
        "print(fitted.summary())"
      ],
      "metadata": {
        "colab": {
          "base_uri": "https://localhost:8080/"
        },
        "id": "3opCgnSRYHh-",
        "outputId": "075dbdc9-3630-4d02-8399-c1c6078abddb"
      },
      "execution_count": null,
      "outputs": [
        {
          "output_type": "stream",
          "name": "stdout",
          "text": [
            "                               SARIMAX Results                                \n",
            "==============================================================================\n",
            "Dep. Variable:                      y   No. Observations:                   70\n",
            "Model:                 ARIMA(1, 0, 2)   Log Likelihood                -239.919\n",
            "Date:                Tue, 21 Mar 2023   AIC                            489.837\n",
            "Time:                        04:42:20   BIC                            501.080\n",
            "Sample:                             0   HQIC                           494.303\n",
            "                                 - 70                                         \n",
            "Covariance Type:                  opg                                         \n",
            "==============================================================================\n",
            "                 coef    std err          z      P>|z|      [0.025      0.975]\n",
            "------------------------------------------------------------------------------\n",
            "const         39.8097      1.250     31.855      0.000      37.360      42.259\n",
            "ar.L1          0.2371      0.704      0.337      0.736      -1.143       1.617\n",
            "ma.L1         -0.1844      0.698     -0.264      0.792      -1.553       1.185\n",
            "ma.L2          0.1587      0.153      1.040      0.298      -0.140       0.458\n",
            "sigma2        55.4804     11.880      4.670      0.000      32.196      78.765\n",
            "===================================================================================\n",
            "Ljung-Box (L1) (Q):                   0.00   Jarque-Bera (JB):                 1.56\n",
            "Prob(Q):                              0.98   Prob(JB):                         0.46\n",
            "Heteroskedasticity (H):               0.66   Skew:                             0.03\n",
            "Prob(H) (two-sided):                  0.32   Kurtosis:                         2.27\n",
            "===================================================================================\n",
            "\n",
            "Warnings:\n",
            "[1] Covariance matrix calculated using the outer product of gradients (complex-step).\n"
          ]
        }
      ]
    },
    {
      "cell_type": "code",
      "source": [
        "predictions = fitted.forecast(steps=len(test))\n",
        "\n",
        "\n",
        "from sklearn.metrics import mean_squared_error\n",
        "mse = mean_squared_error(test, predictions)\n",
        "print(\"Mean Squared Error: \", mse)"
      ],
      "metadata": {
        "colab": {
          "base_uri": "https://localhost:8080/"
        },
        "id": "s2_-N6e8cAwn",
        "outputId": "49672f64-49c6-4b25-988e-16f3f0163d42"
      },
      "execution_count": null,
      "outputs": [
        {
          "output_type": "stream",
          "name": "stdout",
          "text": [
            "Mean Squared Error:  58.92481477208585\n"
          ]
        }
      ]
    },
    {
      "cell_type": "code",
      "source": [
        "!pip install pmdarima"
      ],
      "metadata": {
        "colab": {
          "base_uri": "https://localhost:8080/"
        },
        "id": "B2A2rjIteer1",
        "outputId": "43314cf7-1be1-48ad-bbc2-3803bb7d7805"
      },
      "execution_count": null,
      "outputs": [
        {
          "output_type": "stream",
          "name": "stdout",
          "text": [
            "Looking in indexes: https://pypi.org/simple, https://us-python.pkg.dev/colab-wheels/public/simple/\n",
            "Collecting pmdarima\n",
            "  Downloading pmdarima-2.0.3-cp39-cp39-manylinux_2_17_x86_64.manylinux2014_x86_64.manylinux_2_28_x86_64.whl (1.9 MB)\n",
            "\u001b[2K     \u001b[90m━━━━━━━━━━━━━━━━━━━━━━━━━━━━━━━━━━━━━━━━\u001b[0m \u001b[32m1.9/1.9 MB\u001b[0m \u001b[31m22.7 MB/s\u001b[0m eta \u001b[36m0:00:00\u001b[0m\n",
            "\u001b[?25hRequirement already satisfied: urllib3 in /usr/local/lib/python3.9/dist-packages (from pmdarima) (1.26.15)\n",
            "Requirement already satisfied: numpy>=1.21.2 in /usr/local/lib/python3.9/dist-packages (from pmdarima) (1.22.4)\n",
            "Requirement already satisfied: joblib>=0.11 in /usr/local/lib/python3.9/dist-packages (from pmdarima) (1.1.1)\n",
            "Requirement already satisfied: scikit-learn>=0.22 in /usr/local/lib/python3.9/dist-packages (from pmdarima) (1.2.2)\n",
            "Requirement already satisfied: setuptools!=50.0.0,>=38.6.0 in /usr/local/lib/python3.9/dist-packages (from pmdarima) (63.4.3)\n",
            "Requirement already satisfied: Cython!=0.29.18,!=0.29.31,>=0.29 in /usr/local/lib/python3.9/dist-packages (from pmdarima) (0.29.33)\n",
            "Requirement already satisfied: scipy>=1.3.2 in /usr/local/lib/python3.9/dist-packages (from pmdarima) (1.10.1)\n",
            "Requirement already satisfied: pandas>=0.19 in /usr/local/lib/python3.9/dist-packages (from pmdarima) (1.4.4)\n",
            "Requirement already satisfied: statsmodels>=0.13.2 in /usr/local/lib/python3.9/dist-packages (from pmdarima) (0.13.5)\n",
            "Requirement already satisfied: pytz>=2020.1 in /usr/local/lib/python3.9/dist-packages (from pandas>=0.19->pmdarima) (2022.7.1)\n",
            "Requirement already satisfied: python-dateutil>=2.8.1 in /usr/local/lib/python3.9/dist-packages (from pandas>=0.19->pmdarima) (2.8.2)\n",
            "Requirement already satisfied: threadpoolctl>=2.0.0 in /usr/local/lib/python3.9/dist-packages (from scikit-learn>=0.22->pmdarima) (3.1.0)\n",
            "Requirement already satisfied: patsy>=0.5.2 in /usr/local/lib/python3.9/dist-packages (from statsmodels>=0.13.2->pmdarima) (0.5.3)\n",
            "Requirement already satisfied: packaging>=21.3 in /usr/local/lib/python3.9/dist-packages (from statsmodels>=0.13.2->pmdarima) (23.0)\n",
            "Requirement already satisfied: six in /usr/local/lib/python3.9/dist-packages (from patsy>=0.5.2->statsmodels>=0.13.2->pmdarima) (1.15.0)\n",
            "Installing collected packages: pmdarima\n",
            "Successfully installed pmdarima-2.0.3\n"
          ]
        }
      ]
    },
    {
      "cell_type": "code",
      "source": [
        "import pmdarima as pm\n",
        "from pmdarima.model_selection import train_test_split\n",
        "import numpy as np\n",
        "import matplotlib.pyplot as plt"
      ],
      "metadata": {
        "id": "wXnzuPK0gwG6"
      },
      "execution_count": null,
      "outputs": []
    },
    {
      "cell_type": "code",
      "source": [
        "model= pm.auto_arima(data['values'],start_P=1,start_Q=1,test ='adf',max_P=3,max_Q=3,m=1,d=None,error_action= 'ignore',suppress_warnings=True,stepwise=True, seasonal=False, trace=True)\n",
        "print(model.summary())"
      ],
      "metadata": {
        "colab": {
          "base_uri": "https://localhost:8080/"
        },
        "id": "iiDT_t7WgzGS",
        "outputId": "14f26fb1-f094-43e6-a448-77f455a3689e"
      },
      "execution_count": null,
      "outputs": [
        {
          "output_type": "stream",
          "name": "stdout",
          "text": [
            "Performing stepwise search to minimize aic\n",
            " ARIMA(2,0,2)(0,0,0)[0]             : AIC=inf, Time=1.05 sec\n",
            " ARIMA(0,0,0)(0,0,0)[0]             : AIC=3776.976, Time=0.07 sec\n",
            " ARIMA(1,0,0)(0,0,0)[0]             : AIC=2656.891, Time=0.04 sec\n",
            " ARIMA(0,0,1)(0,0,0)[0]             : AIC=3407.164, Time=0.26 sec\n",
            " ARIMA(2,0,0)(0,0,0)[0]             : AIC=inf, Time=0.20 sec\n",
            " ARIMA(1,0,1)(0,0,0)[0]             : AIC=2474.496, Time=0.47 sec\n",
            " ARIMA(2,0,1)(0,0,0)[0]             : AIC=2471.358, Time=0.98 sec\n",
            " ARIMA(3,0,1)(0,0,0)[0]             : AIC=2472.653, Time=1.17 sec\n",
            " ARIMA(1,0,2)(0,0,0)[0]             : AIC=2471.853, Time=0.97 sec\n",
            " ARIMA(3,0,0)(0,0,0)[0]             : AIC=inf, Time=0.53 sec\n",
            " ARIMA(3,0,2)(0,0,0)[0]             : AIC=inf, Time=3.42 sec\n",
            " ARIMA(2,0,1)(0,0,0)[0] intercept   : AIC=2474.346, Time=1.59 sec\n",
            "\n",
            "Best model:  ARIMA(2,0,1)(0,0,0)[0]          \n",
            "Total fit time: 10.823 seconds\n",
            "                               SARIMAX Results                                \n",
            "==============================================================================\n",
            "Dep. Variable:                      y   No. Observations:                  365\n",
            "Model:               SARIMAX(2, 0, 1)   Log Likelihood               -1231.679\n",
            "Date:                Tue, 21 Mar 2023   AIC                           2471.358\n",
            "Time:                        04:53:48   BIC                           2486.957\n",
            "Sample:                    01-01-1959   HQIC                          2477.557\n",
            "                         - 12-31-1959                                         \n",
            "Covariance Type:                  opg                                         \n",
            "==============================================================================\n",
            "                 coef    std err          z      P>|z|      [0.025      0.975]\n",
            "------------------------------------------------------------------------------\n",
            "ar.L1          1.1251      0.060     18.763      0.000       1.008       1.243\n",
            "ar.L2         -0.1251      0.060     -2.087      0.037      -0.243      -0.008\n",
            "ma.L1         -0.9623      0.017    -55.585      0.000      -0.996      -0.928\n",
            "sigma2        49.1469      3.301     14.889      0.000      42.677      55.617\n",
            "===================================================================================\n",
            "Ljung-Box (L1) (Q):                   0.04   Jarque-Bera (JB):                24.86\n",
            "Prob(Q):                              0.84   Prob(JB):                         0.00\n",
            "Heteroskedasticity (H):               0.96   Skew:                             0.57\n",
            "Prob(H) (two-sided):                  0.80   Kurtosis:                         3.59\n",
            "===================================================================================\n",
            "\n",
            "Warnings:\n",
            "[1] Covariance matrix calculated using the outer product of gradients (complex-step).\n"
          ]
        }
      ]
    },
    {
      "cell_type": "code",
      "source": [
        "predictions = fitted.forecast(30)\n",
        "print(predictions)"
      ],
      "metadata": {
        "colab": {
          "base_uri": "https://localhost:8080/"
        },
        "id": "8WZLB3_rhAbk",
        "outputId": "2b20c847-83bd-48fc-f8f6-cd3afe7d57bc"
      },
      "execution_count": null,
      "outputs": [
        {
          "output_type": "stream",
          "name": "stdout",
          "text": [
            "[39.77021675 40.87256952 40.06172816 39.86946115 39.82387073 39.81306031\n",
            " 39.81049694 39.80988911 39.80974498 39.80971081 39.8097027  39.80970078\n",
            " 39.80970033 39.80970022 39.80970019 39.80970019 39.80970019 39.80970019\n",
            " 39.80970019 39.80970019 39.80970019 39.80970019 39.80970019 39.80970019\n",
            " 39.80970019 39.80970019 39.80970019 39.80970019 39.80970019 39.80970019]\n"
          ]
        }
      ]
    },
    {
      "cell_type": "code",
      "source": [],
      "metadata": {
        "id": "HP51HqUdhrAX"
      },
      "execution_count": null,
      "outputs": []
    }
  ]
}